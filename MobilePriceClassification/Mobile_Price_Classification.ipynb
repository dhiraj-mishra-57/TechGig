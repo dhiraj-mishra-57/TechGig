{
  "nbformat": 4,
  "nbformat_minor": 0,
  "metadata": {
    "colab": {
      "name": "Mobile Price Classification",
      "provenance": [],
      "collapsed_sections": [
        "Cmdo1moOWRxM",
        "pLmG3iB3WbrQ",
        "oWT7bokaGnRX",
        "l-0yClszP2ia",
        "YIjLyWMzWumg",
        "Ri4vKeFrRQz3",
        "dKJxWnGBtsEG"
      ]
    },
    "kernelspec": {
      "name": "python3",
      "display_name": "Python 3"
    }
  },
  "cells": [
    {
      "cell_type": "code",
      "metadata": {
        "id": "113VtuaZo-Ok",
        "colab_type": "code",
        "colab": {}
      },
      "source": [
        "# importing modules\n",
        "import pandas as pd\n",
        "import numpy as np\n",
        "import matplotlib as mlt\n",
        "import matplotlib.pyplot as plt\n",
        "import seaborn as sns\n",
        "sns.set(style=\"ticks\")\n",
        "import sklearn\n",
        "from sklearn.preprocessing import StandardScaler\n",
        "from sklearn.model_selection import train_test_split,GridSearchCV\n",
        "from sklearn.svm import SVC, LinearSVC\n",
        "from sklearn.tree import DecisionTreeClassifier\n",
        "from sklearn.linear_model import LogisticRegression\n",
        "from sklearn.ensemble import RandomForestClassifier\n",
        "from sklearn.neighbors import KNeighborsClassifier\n",
        "from sklearn.naive_bayes import GaussianNB\n",
        "from xgboost import XGBClassifier\n",
        "from sklearn.metrics import accuracy_score,confusion_matrix"
      ],
      "execution_count": 0,
      "outputs": []
    },
    {
      "cell_type": "code",
      "metadata": {
        "id": "Yr_xu40_pupa",
        "colab_type": "code",
        "outputId": "7ff793af-99c0-48ea-8538-7c05a553105a",
        "colab": {
          "base_uri": "https://localhost:8080/",
          "height": 693
        }
      },
      "source": [
        "# Importing data\n",
        "train = pd.read_csv('train.csv')\n",
        "test = pd.read_csv('test.csv')\n",
        "submission = pd.read_csv('sample.csv')\n",
        "description = pd.read_csv('Data_Description.csv')\n",
        "description"
      ],
      "execution_count": 0,
      "outputs": [
        {
          "output_type": "execute_result",
          "data": {
            "text/html": [
              "<div>\n",
              "<style scoped>\n",
              "    .dataframe tbody tr th:only-of-type {\n",
              "        vertical-align: middle;\n",
              "    }\n",
              "\n",
              "    .dataframe tbody tr th {\n",
              "        vertical-align: top;\n",
              "    }\n",
              "\n",
              "    .dataframe thead th {\n",
              "        text-align: right;\n",
              "    }\n",
              "</style>\n",
              "<table border=\"1\" class=\"dataframe\">\n",
              "  <thead>\n",
              "    <tr style=\"text-align: right;\">\n",
              "      <th></th>\n",
              "      <th>Variable</th>\n",
              "      <th>Description</th>\n",
              "    </tr>\n",
              "  </thead>\n",
              "  <tbody>\n",
              "    <tr>\n",
              "      <th>0</th>\n",
              "      <td>pc</td>\n",
              "      <td>Primary Camera mega pixels</td>\n",
              "    </tr>\n",
              "    <tr>\n",
              "      <th>1</th>\n",
              "      <td>fc</td>\n",
              "      <td>Front Camera mega pixels</td>\n",
              "    </tr>\n",
              "    <tr>\n",
              "      <th>2</th>\n",
              "      <td>sc_h</td>\n",
              "      <td>Screen Height of mobile in cm</td>\n",
              "    </tr>\n",
              "    <tr>\n",
              "      <th>3</th>\n",
              "      <td>sc_w</td>\n",
              "      <td>Screen Width of mobile in cm</td>\n",
              "    </tr>\n",
              "    <tr>\n",
              "      <th>4</th>\n",
              "      <td>m_dep</td>\n",
              "      <td>Mobile Depth in cm</td>\n",
              "    </tr>\n",
              "    <tr>\n",
              "      <th>5</th>\n",
              "      <td>px_width</td>\n",
              "      <td>Pixel Resolution Width</td>\n",
              "    </tr>\n",
              "    <tr>\n",
              "      <th>6</th>\n",
              "      <td>px_height</td>\n",
              "      <td>Pixel Resolution Height</td>\n",
              "    </tr>\n",
              "    <tr>\n",
              "      <th>7</th>\n",
              "      <td>ram</td>\n",
              "      <td>Random Access Memory in Mega Bytes</td>\n",
              "    </tr>\n",
              "    <tr>\n",
              "      <th>8</th>\n",
              "      <td>int_memory</td>\n",
              "      <td>Internal Memory in Giga Bytes</td>\n",
              "    </tr>\n",
              "    <tr>\n",
              "      <th>9</th>\n",
              "      <td>four_g</td>\n",
              "      <td>Has 4G or not</td>\n",
              "    </tr>\n",
              "    <tr>\n",
              "      <th>10</th>\n",
              "      <td>three_g</td>\n",
              "      <td>Has 3G or not</td>\n",
              "    </tr>\n",
              "    <tr>\n",
              "      <th>11</th>\n",
              "      <td>dual_sim</td>\n",
              "      <td>Has dual sim support or not</td>\n",
              "    </tr>\n",
              "    <tr>\n",
              "      <th>12</th>\n",
              "      <td>battery_power</td>\n",
              "      <td>Total energy a battery can store in one time m...</td>\n",
              "    </tr>\n",
              "    <tr>\n",
              "      <th>13</th>\n",
              "      <td>touch_screen</td>\n",
              "      <td>Has touch screen or not</td>\n",
              "    </tr>\n",
              "    <tr>\n",
              "      <th>14</th>\n",
              "      <td>clock_speed</td>\n",
              "      <td>speed at which microprocessor executes instruc...</td>\n",
              "    </tr>\n",
              "    <tr>\n",
              "      <th>15</th>\n",
              "      <td>n_cores</td>\n",
              "      <td>Number of cores of processor</td>\n",
              "    </tr>\n",
              "    <tr>\n",
              "      <th>16</th>\n",
              "      <td>wifi</td>\n",
              "      <td>Has wifi or not</td>\n",
              "    </tr>\n",
              "    <tr>\n",
              "      <th>17</th>\n",
              "      <td>blue</td>\n",
              "      <td>Has bluetooth or not</td>\n",
              "    </tr>\n",
              "    <tr>\n",
              "      <th>18</th>\n",
              "      <td>mobile_wt</td>\n",
              "      <td>Weight of mobile phone</td>\n",
              "    </tr>\n",
              "    <tr>\n",
              "      <th>19</th>\n",
              "      <td>talk_time</td>\n",
              "      <td>longest time that a single battery charge will...</td>\n",
              "    </tr>\n",
              "    <tr>\n",
              "      <th>20</th>\n",
              "      <td>price_range</td>\n",
              "      <td>This is the target variable with value of 0(lo...</td>\n",
              "    </tr>\n",
              "  </tbody>\n",
              "</table>\n",
              "</div>"
            ],
            "text/plain": [
              "         Variable                                        Description\n",
              "0              pc                         Primary Camera mega pixels\n",
              "1              fc                           Front Camera mega pixels\n",
              "2            sc_h                      Screen Height of mobile in cm\n",
              "3            sc_w                       Screen Width of mobile in cm\n",
              "4           m_dep                                 Mobile Depth in cm\n",
              "5        px_width                             Pixel Resolution Width\n",
              "6       px_height                            Pixel Resolution Height\n",
              "7             ram                 Random Access Memory in Mega Bytes\n",
              "8      int_memory                      Internal Memory in Giga Bytes\n",
              "9          four_g                                      Has 4G or not\n",
              "10        three_g                                      Has 3G or not\n",
              "11       dual_sim                        Has dual sim support or not\n",
              "12  battery_power  Total energy a battery can store in one time m...\n",
              "13   touch_screen                            Has touch screen or not\n",
              "14    clock_speed  speed at which microprocessor executes instruc...\n",
              "15        n_cores                       Number of cores of processor\n",
              "16           wifi                                    Has wifi or not\n",
              "17           blue                               Has bluetooth or not\n",
              "18      mobile_wt                             Weight of mobile phone\n",
              "19      talk_time  longest time that a single battery charge will...\n",
              "20    price_range  This is the target variable with value of 0(lo..."
            ]
          },
          "metadata": {
            "tags": []
          },
          "execution_count": 2
        }
      ]
    },
    {
      "cell_type": "code",
      "metadata": {
        "id": "I1nBsE-TqA7I",
        "colab_type": "code",
        "outputId": "f6300288-e979-4dd5-9381-196a899d7983",
        "colab": {
          "base_uri": "https://localhost:8080/",
          "height": 222
        }
      },
      "source": [
        "train.head()"
      ],
      "execution_count": 0,
      "outputs": [
        {
          "output_type": "execute_result",
          "data": {
            "text/html": [
              "<div>\n",
              "<style scoped>\n",
              "    .dataframe tbody tr th:only-of-type {\n",
              "        vertical-align: middle;\n",
              "    }\n",
              "\n",
              "    .dataframe tbody tr th {\n",
              "        vertical-align: top;\n",
              "    }\n",
              "\n",
              "    .dataframe thead th {\n",
              "        text-align: right;\n",
              "    }\n",
              "</style>\n",
              "<table border=\"1\" class=\"dataframe\">\n",
              "  <thead>\n",
              "    <tr style=\"text-align: right;\">\n",
              "      <th></th>\n",
              "      <th>battery_power</th>\n",
              "      <th>blue</th>\n",
              "      <th>clock_speed</th>\n",
              "      <th>dual_sim</th>\n",
              "      <th>fc</th>\n",
              "      <th>four_g</th>\n",
              "      <th>int_memory</th>\n",
              "      <th>m_dep</th>\n",
              "      <th>mobile_wt</th>\n",
              "      <th>n_cores</th>\n",
              "      <th>pc</th>\n",
              "      <th>px_height</th>\n",
              "      <th>px_width</th>\n",
              "      <th>ram</th>\n",
              "      <th>sc_h</th>\n",
              "      <th>sc_w</th>\n",
              "      <th>talk_time</th>\n",
              "      <th>three_g</th>\n",
              "      <th>touch_screen</th>\n",
              "      <th>wifi</th>\n",
              "      <th>price_range</th>\n",
              "    </tr>\n",
              "  </thead>\n",
              "  <tbody>\n",
              "    <tr>\n",
              "      <th>0</th>\n",
              "      <td>842</td>\n",
              "      <td>0</td>\n",
              "      <td>2.2</td>\n",
              "      <td>0</td>\n",
              "      <td>1</td>\n",
              "      <td>0</td>\n",
              "      <td>7</td>\n",
              "      <td>0.6</td>\n",
              "      <td>188</td>\n",
              "      <td>2</td>\n",
              "      <td>2</td>\n",
              "      <td>20</td>\n",
              "      <td>756</td>\n",
              "      <td>2549</td>\n",
              "      <td>9</td>\n",
              "      <td>7</td>\n",
              "      <td>19</td>\n",
              "      <td>0</td>\n",
              "      <td>0</td>\n",
              "      <td>1</td>\n",
              "      <td>1</td>\n",
              "    </tr>\n",
              "    <tr>\n",
              "      <th>1</th>\n",
              "      <td>1021</td>\n",
              "      <td>1</td>\n",
              "      <td>0.5</td>\n",
              "      <td>1</td>\n",
              "      <td>0</td>\n",
              "      <td>1</td>\n",
              "      <td>53</td>\n",
              "      <td>0.7</td>\n",
              "      <td>136</td>\n",
              "      <td>3</td>\n",
              "      <td>6</td>\n",
              "      <td>905</td>\n",
              "      <td>1988</td>\n",
              "      <td>2631</td>\n",
              "      <td>17</td>\n",
              "      <td>3</td>\n",
              "      <td>7</td>\n",
              "      <td>1</td>\n",
              "      <td>1</td>\n",
              "      <td>0</td>\n",
              "      <td>2</td>\n",
              "    </tr>\n",
              "    <tr>\n",
              "      <th>2</th>\n",
              "      <td>563</td>\n",
              "      <td>1</td>\n",
              "      <td>0.5</td>\n",
              "      <td>1</td>\n",
              "      <td>2</td>\n",
              "      <td>1</td>\n",
              "      <td>41</td>\n",
              "      <td>0.9</td>\n",
              "      <td>145</td>\n",
              "      <td>5</td>\n",
              "      <td>6</td>\n",
              "      <td>1263</td>\n",
              "      <td>1716</td>\n",
              "      <td>2603</td>\n",
              "      <td>11</td>\n",
              "      <td>2</td>\n",
              "      <td>9</td>\n",
              "      <td>1</td>\n",
              "      <td>1</td>\n",
              "      <td>0</td>\n",
              "      <td>2</td>\n",
              "    </tr>\n",
              "    <tr>\n",
              "      <th>3</th>\n",
              "      <td>615</td>\n",
              "      <td>1</td>\n",
              "      <td>2.5</td>\n",
              "      <td>0</td>\n",
              "      <td>0</td>\n",
              "      <td>0</td>\n",
              "      <td>10</td>\n",
              "      <td>0.8</td>\n",
              "      <td>131</td>\n",
              "      <td>6</td>\n",
              "      <td>9</td>\n",
              "      <td>1216</td>\n",
              "      <td>1786</td>\n",
              "      <td>2769</td>\n",
              "      <td>16</td>\n",
              "      <td>8</td>\n",
              "      <td>11</td>\n",
              "      <td>1</td>\n",
              "      <td>0</td>\n",
              "      <td>0</td>\n",
              "      <td>2</td>\n",
              "    </tr>\n",
              "    <tr>\n",
              "      <th>4</th>\n",
              "      <td>1821</td>\n",
              "      <td>1</td>\n",
              "      <td>1.2</td>\n",
              "      <td>0</td>\n",
              "      <td>13</td>\n",
              "      <td>1</td>\n",
              "      <td>44</td>\n",
              "      <td>0.6</td>\n",
              "      <td>141</td>\n",
              "      <td>2</td>\n",
              "      <td>14</td>\n",
              "      <td>1208</td>\n",
              "      <td>1212</td>\n",
              "      <td>1411</td>\n",
              "      <td>8</td>\n",
              "      <td>2</td>\n",
              "      <td>15</td>\n",
              "      <td>1</td>\n",
              "      <td>1</td>\n",
              "      <td>0</td>\n",
              "      <td>1</td>\n",
              "    </tr>\n",
              "  </tbody>\n",
              "</table>\n",
              "</div>"
            ],
            "text/plain": [
              "   battery_power  blue  clock_speed  ...  touch_screen  wifi  price_range\n",
              "0            842     0          2.2  ...             0     1            1\n",
              "1           1021     1          0.5  ...             1     0            2\n",
              "2            563     1          0.5  ...             1     0            2\n",
              "3            615     1          2.5  ...             0     0            2\n",
              "4           1821     1          1.2  ...             1     0            1\n",
              "\n",
              "[5 rows x 21 columns]"
            ]
          },
          "metadata": {
            "tags": []
          },
          "execution_count": 3
        }
      ]
    },
    {
      "cell_type": "code",
      "metadata": {
        "id": "0xgyQ54UqHGp",
        "colab_type": "code",
        "outputId": "e33cc65e-7c10-434a-89cb-66cfdea94e67",
        "colab": {
          "base_uri": "https://localhost:8080/",
          "height": 468
        }
      },
      "source": [
        "train.info()"
      ],
      "execution_count": 0,
      "outputs": [
        {
          "output_type": "stream",
          "text": [
            "<class 'pandas.core.frame.DataFrame'>\n",
            "RangeIndex: 2000 entries, 0 to 1999\n",
            "Data columns (total 21 columns):\n",
            "battery_power    2000 non-null int64\n",
            "blue             2000 non-null int64\n",
            "clock_speed      2000 non-null float64\n",
            "dual_sim         2000 non-null int64\n",
            "fc               2000 non-null int64\n",
            "four_g           2000 non-null int64\n",
            "int_memory       2000 non-null int64\n",
            "m_dep            2000 non-null float64\n",
            "mobile_wt        2000 non-null int64\n",
            "n_cores          2000 non-null int64\n",
            "pc               2000 non-null int64\n",
            "px_height        2000 non-null int64\n",
            "px_width         2000 non-null int64\n",
            "ram              2000 non-null int64\n",
            "sc_h             2000 non-null int64\n",
            "sc_w             2000 non-null int64\n",
            "talk_time        2000 non-null int64\n",
            "three_g          2000 non-null int64\n",
            "touch_screen     2000 non-null int64\n",
            "wifi             2000 non-null int64\n",
            "price_range      2000 non-null int64\n",
            "dtypes: float64(2), int64(19)\n",
            "memory usage: 328.2 KB\n"
          ],
          "name": "stdout"
        }
      ]
    },
    {
      "cell_type": "code",
      "metadata": {
        "id": "H8MtPrcFrhTI",
        "colab_type": "code",
        "outputId": "7625caf8-c768-4dc2-c347-bf9bb6cc3c55",
        "colab": {
          "base_uri": "https://localhost:8080/",
          "height": 693
        }
      },
      "source": [
        "d = train.describe(percentiles=[0.6,.7,.75,0.8,.85,.90,.95]).T.copy()\n",
        "d['median'] = train.median()\n",
        "d"
      ],
      "execution_count": 0,
      "outputs": [
        {
          "output_type": "execute_result",
          "data": {
            "text/html": [
              "<div>\n",
              "<style scoped>\n",
              "    .dataframe tbody tr th:only-of-type {\n",
              "        vertical-align: middle;\n",
              "    }\n",
              "\n",
              "    .dataframe tbody tr th {\n",
              "        vertical-align: top;\n",
              "    }\n",
              "\n",
              "    .dataframe thead th {\n",
              "        text-align: right;\n",
              "    }\n",
              "</style>\n",
              "<table border=\"1\" class=\"dataframe\">\n",
              "  <thead>\n",
              "    <tr style=\"text-align: right;\">\n",
              "      <th></th>\n",
              "      <th>count</th>\n",
              "      <th>mean</th>\n",
              "      <th>std</th>\n",
              "      <th>min</th>\n",
              "      <th>50%</th>\n",
              "      <th>60%</th>\n",
              "      <th>70%</th>\n",
              "      <th>75%</th>\n",
              "      <th>80%</th>\n",
              "      <th>85%</th>\n",
              "      <th>90%</th>\n",
              "      <th>95%</th>\n",
              "      <th>max</th>\n",
              "      <th>median</th>\n",
              "    </tr>\n",
              "  </thead>\n",
              "  <tbody>\n",
              "    <tr>\n",
              "      <th>battery_power</th>\n",
              "      <td>2000.0</td>\n",
              "      <td>1238.51850</td>\n",
              "      <td>439.418206</td>\n",
              "      <td>501.0</td>\n",
              "      <td>1226.0</td>\n",
              "      <td>1395.4</td>\n",
              "      <td>1549.0</td>\n",
              "      <td>1615.25</td>\n",
              "      <td>1698.2</td>\n",
              "      <td>1775.15</td>\n",
              "      <td>1851.0</td>\n",
              "      <td>1930.15</td>\n",
              "      <td>1998.0</td>\n",
              "      <td>1226.0</td>\n",
              "    </tr>\n",
              "    <tr>\n",
              "      <th>blue</th>\n",
              "      <td>2000.0</td>\n",
              "      <td>0.49500</td>\n",
              "      <td>0.500100</td>\n",
              "      <td>0.0</td>\n",
              "      <td>0.0</td>\n",
              "      <td>1.0</td>\n",
              "      <td>1.0</td>\n",
              "      <td>1.00</td>\n",
              "      <td>1.0</td>\n",
              "      <td>1.00</td>\n",
              "      <td>1.0</td>\n",
              "      <td>1.00</td>\n",
              "      <td>1.0</td>\n",
              "      <td>0.0</td>\n",
              "    </tr>\n",
              "    <tr>\n",
              "      <th>clock_speed</th>\n",
              "      <td>2000.0</td>\n",
              "      <td>1.52225</td>\n",
              "      <td>0.816004</td>\n",
              "      <td>0.5</td>\n",
              "      <td>1.5</td>\n",
              "      <td>1.8</td>\n",
              "      <td>2.1</td>\n",
              "      <td>2.20</td>\n",
              "      <td>2.4</td>\n",
              "      <td>2.50</td>\n",
              "      <td>2.7</td>\n",
              "      <td>2.80</td>\n",
              "      <td>3.0</td>\n",
              "      <td>1.5</td>\n",
              "    </tr>\n",
              "    <tr>\n",
              "      <th>dual_sim</th>\n",
              "      <td>2000.0</td>\n",
              "      <td>0.50950</td>\n",
              "      <td>0.500035</td>\n",
              "      <td>0.0</td>\n",
              "      <td>1.0</td>\n",
              "      <td>1.0</td>\n",
              "      <td>1.0</td>\n",
              "      <td>1.00</td>\n",
              "      <td>1.0</td>\n",
              "      <td>1.00</td>\n",
              "      <td>1.0</td>\n",
              "      <td>1.00</td>\n",
              "      <td>1.0</td>\n",
              "      <td>1.0</td>\n",
              "    </tr>\n",
              "    <tr>\n",
              "      <th>fc</th>\n",
              "      <td>2000.0</td>\n",
              "      <td>4.30950</td>\n",
              "      <td>4.341444</td>\n",
              "      <td>0.0</td>\n",
              "      <td>3.0</td>\n",
              "      <td>4.0</td>\n",
              "      <td>6.0</td>\n",
              "      <td>7.00</td>\n",
              "      <td>8.0</td>\n",
              "      <td>9.00</td>\n",
              "      <td>11.0</td>\n",
              "      <td>13.00</td>\n",
              "      <td>19.0</td>\n",
              "      <td>3.0</td>\n",
              "    </tr>\n",
              "    <tr>\n",
              "      <th>four_g</th>\n",
              "      <td>2000.0</td>\n",
              "      <td>0.52150</td>\n",
              "      <td>0.499662</td>\n",
              "      <td>0.0</td>\n",
              "      <td>1.0</td>\n",
              "      <td>1.0</td>\n",
              "      <td>1.0</td>\n",
              "      <td>1.00</td>\n",
              "      <td>1.0</td>\n",
              "      <td>1.00</td>\n",
              "      <td>1.0</td>\n",
              "      <td>1.00</td>\n",
              "      <td>1.0</td>\n",
              "      <td>1.0</td>\n",
              "    </tr>\n",
              "    <tr>\n",
              "      <th>int_memory</th>\n",
              "      <td>2000.0</td>\n",
              "      <td>32.04650</td>\n",
              "      <td>18.145715</td>\n",
              "      <td>2.0</td>\n",
              "      <td>32.0</td>\n",
              "      <td>38.0</td>\n",
              "      <td>44.0</td>\n",
              "      <td>48.00</td>\n",
              "      <td>51.0</td>\n",
              "      <td>54.00</td>\n",
              "      <td>57.0</td>\n",
              "      <td>61.00</td>\n",
              "      <td>64.0</td>\n",
              "      <td>32.0</td>\n",
              "    </tr>\n",
              "    <tr>\n",
              "      <th>m_dep</th>\n",
              "      <td>2000.0</td>\n",
              "      <td>0.50175</td>\n",
              "      <td>0.288416</td>\n",
              "      <td>0.1</td>\n",
              "      <td>0.5</td>\n",
              "      <td>0.6</td>\n",
              "      <td>0.7</td>\n",
              "      <td>0.80</td>\n",
              "      <td>0.8</td>\n",
              "      <td>0.90</td>\n",
              "      <td>0.9</td>\n",
              "      <td>1.00</td>\n",
              "      <td>1.0</td>\n",
              "      <td>0.5</td>\n",
              "    </tr>\n",
              "    <tr>\n",
              "      <th>mobile_wt</th>\n",
              "      <td>2000.0</td>\n",
              "      <td>140.24900</td>\n",
              "      <td>35.399655</td>\n",
              "      <td>80.0</td>\n",
              "      <td>141.0</td>\n",
              "      <td>153.0</td>\n",
              "      <td>164.0</td>\n",
              "      <td>170.00</td>\n",
              "      <td>178.0</td>\n",
              "      <td>184.00</td>\n",
              "      <td>189.0</td>\n",
              "      <td>196.00</td>\n",
              "      <td>200.0</td>\n",
              "      <td>141.0</td>\n",
              "    </tr>\n",
              "    <tr>\n",
              "      <th>n_cores</th>\n",
              "      <td>2000.0</td>\n",
              "      <td>4.52050</td>\n",
              "      <td>2.287837</td>\n",
              "      <td>1.0</td>\n",
              "      <td>4.0</td>\n",
              "      <td>5.0</td>\n",
              "      <td>6.0</td>\n",
              "      <td>7.00</td>\n",
              "      <td>7.0</td>\n",
              "      <td>7.00</td>\n",
              "      <td>8.0</td>\n",
              "      <td>8.00</td>\n",
              "      <td>8.0</td>\n",
              "      <td>4.0</td>\n",
              "    </tr>\n",
              "    <tr>\n",
              "      <th>pc</th>\n",
              "      <td>2000.0</td>\n",
              "      <td>9.91650</td>\n",
              "      <td>6.064315</td>\n",
              "      <td>0.0</td>\n",
              "      <td>10.0</td>\n",
              "      <td>12.0</td>\n",
              "      <td>14.0</td>\n",
              "      <td>15.00</td>\n",
              "      <td>16.0</td>\n",
              "      <td>17.00</td>\n",
              "      <td>18.0</td>\n",
              "      <td>20.00</td>\n",
              "      <td>20.0</td>\n",
              "      <td>10.0</td>\n",
              "    </tr>\n",
              "    <tr>\n",
              "      <th>px_height</th>\n",
              "      <td>2000.0</td>\n",
              "      <td>645.10800</td>\n",
              "      <td>443.780811</td>\n",
              "      <td>0.0</td>\n",
              "      <td>564.0</td>\n",
              "      <td>690.4</td>\n",
              "      <td>854.0</td>\n",
              "      <td>947.25</td>\n",
              "      <td>1050.4</td>\n",
              "      <td>1163.15</td>\n",
              "      <td>1285.0</td>\n",
              "      <td>1485.05</td>\n",
              "      <td>1960.0</td>\n",
              "      <td>564.0</td>\n",
              "    </tr>\n",
              "    <tr>\n",
              "      <th>px_width</th>\n",
              "      <td>2000.0</td>\n",
              "      <td>1251.51550</td>\n",
              "      <td>432.199447</td>\n",
              "      <td>500.0</td>\n",
              "      <td>1247.0</td>\n",
              "      <td>1393.0</td>\n",
              "      <td>1545.0</td>\n",
              "      <td>1633.00</td>\n",
              "      <td>1704.2</td>\n",
              "      <td>1776.15</td>\n",
              "      <td>1854.0</td>\n",
              "      <td>1929.05</td>\n",
              "      <td>1998.0</td>\n",
              "      <td>1247.0</td>\n",
              "    </tr>\n",
              "    <tr>\n",
              "      <th>ram</th>\n",
              "      <td>2000.0</td>\n",
              "      <td>2124.21300</td>\n",
              "      <td>1084.732044</td>\n",
              "      <td>256.0</td>\n",
              "      <td>2146.5</td>\n",
              "      <td>2485.2</td>\n",
              "      <td>2844.9</td>\n",
              "      <td>3064.50</td>\n",
              "      <td>3256.6</td>\n",
              "      <td>3451.45</td>\n",
              "      <td>3637.7</td>\n",
              "      <td>3826.35</td>\n",
              "      <td>3998.0</td>\n",
              "      <td>2146.5</td>\n",
              "    </tr>\n",
              "    <tr>\n",
              "      <th>sc_h</th>\n",
              "      <td>2000.0</td>\n",
              "      <td>12.30650</td>\n",
              "      <td>4.213245</td>\n",
              "      <td>5.0</td>\n",
              "      <td>12.0</td>\n",
              "      <td>14.0</td>\n",
              "      <td>15.0</td>\n",
              "      <td>16.00</td>\n",
              "      <td>17.0</td>\n",
              "      <td>17.00</td>\n",
              "      <td>18.0</td>\n",
              "      <td>19.00</td>\n",
              "      <td>19.0</td>\n",
              "      <td>12.0</td>\n",
              "    </tr>\n",
              "    <tr>\n",
              "      <th>sc_w</th>\n",
              "      <td>2000.0</td>\n",
              "      <td>5.76700</td>\n",
              "      <td>4.356398</td>\n",
              "      <td>0.0</td>\n",
              "      <td>5.0</td>\n",
              "      <td>6.0</td>\n",
              "      <td>8.0</td>\n",
              "      <td>9.00</td>\n",
              "      <td>10.0</td>\n",
              "      <td>11.00</td>\n",
              "      <td>12.0</td>\n",
              "      <td>14.00</td>\n",
              "      <td>18.0</td>\n",
              "      <td>5.0</td>\n",
              "    </tr>\n",
              "    <tr>\n",
              "      <th>talk_time</th>\n",
              "      <td>2000.0</td>\n",
              "      <td>11.01100</td>\n",
              "      <td>5.463955</td>\n",
              "      <td>2.0</td>\n",
              "      <td>11.0</td>\n",
              "      <td>13.0</td>\n",
              "      <td>15.0</td>\n",
              "      <td>16.00</td>\n",
              "      <td>17.0</td>\n",
              "      <td>18.00</td>\n",
              "      <td>19.0</td>\n",
              "      <td>20.00</td>\n",
              "      <td>20.0</td>\n",
              "      <td>11.0</td>\n",
              "    </tr>\n",
              "    <tr>\n",
              "      <th>three_g</th>\n",
              "      <td>2000.0</td>\n",
              "      <td>0.76150</td>\n",
              "      <td>0.426273</td>\n",
              "      <td>0.0</td>\n",
              "      <td>1.0</td>\n",
              "      <td>1.0</td>\n",
              "      <td>1.0</td>\n",
              "      <td>1.00</td>\n",
              "      <td>1.0</td>\n",
              "      <td>1.00</td>\n",
              "      <td>1.0</td>\n",
              "      <td>1.00</td>\n",
              "      <td>1.0</td>\n",
              "      <td>1.0</td>\n",
              "    </tr>\n",
              "    <tr>\n",
              "      <th>touch_screen</th>\n",
              "      <td>2000.0</td>\n",
              "      <td>0.50300</td>\n",
              "      <td>0.500116</td>\n",
              "      <td>0.0</td>\n",
              "      <td>1.0</td>\n",
              "      <td>1.0</td>\n",
              "      <td>1.0</td>\n",
              "      <td>1.00</td>\n",
              "      <td>1.0</td>\n",
              "      <td>1.00</td>\n",
              "      <td>1.0</td>\n",
              "      <td>1.00</td>\n",
              "      <td>1.0</td>\n",
              "      <td>1.0</td>\n",
              "    </tr>\n",
              "    <tr>\n",
              "      <th>wifi</th>\n",
              "      <td>2000.0</td>\n",
              "      <td>0.50700</td>\n",
              "      <td>0.500076</td>\n",
              "      <td>0.0</td>\n",
              "      <td>1.0</td>\n",
              "      <td>1.0</td>\n",
              "      <td>1.0</td>\n",
              "      <td>1.00</td>\n",
              "      <td>1.0</td>\n",
              "      <td>1.00</td>\n",
              "      <td>1.0</td>\n",
              "      <td>1.00</td>\n",
              "      <td>1.0</td>\n",
              "      <td>1.0</td>\n",
              "    </tr>\n",
              "    <tr>\n",
              "      <th>price_range</th>\n",
              "      <td>2000.0</td>\n",
              "      <td>1.50000</td>\n",
              "      <td>1.118314</td>\n",
              "      <td>0.0</td>\n",
              "      <td>1.5</td>\n",
              "      <td>2.0</td>\n",
              "      <td>2.0</td>\n",
              "      <td>2.25</td>\n",
              "      <td>3.0</td>\n",
              "      <td>3.00</td>\n",
              "      <td>3.0</td>\n",
              "      <td>3.00</td>\n",
              "      <td>3.0</td>\n",
              "      <td>1.5</td>\n",
              "    </tr>\n",
              "  </tbody>\n",
              "</table>\n",
              "</div>"
            ],
            "text/plain": [
              "                count        mean          std  ...      95%     max  median\n",
              "battery_power  2000.0  1238.51850   439.418206  ...  1930.15  1998.0  1226.0\n",
              "blue           2000.0     0.49500     0.500100  ...     1.00     1.0     0.0\n",
              "clock_speed    2000.0     1.52225     0.816004  ...     2.80     3.0     1.5\n",
              "dual_sim       2000.0     0.50950     0.500035  ...     1.00     1.0     1.0\n",
              "fc             2000.0     4.30950     4.341444  ...    13.00    19.0     3.0\n",
              "four_g         2000.0     0.52150     0.499662  ...     1.00     1.0     1.0\n",
              "int_memory     2000.0    32.04650    18.145715  ...    61.00    64.0    32.0\n",
              "m_dep          2000.0     0.50175     0.288416  ...     1.00     1.0     0.5\n",
              "mobile_wt      2000.0   140.24900    35.399655  ...   196.00   200.0   141.0\n",
              "n_cores        2000.0     4.52050     2.287837  ...     8.00     8.0     4.0\n",
              "pc             2000.0     9.91650     6.064315  ...    20.00    20.0    10.0\n",
              "px_height      2000.0   645.10800   443.780811  ...  1485.05  1960.0   564.0\n",
              "px_width       2000.0  1251.51550   432.199447  ...  1929.05  1998.0  1247.0\n",
              "ram            2000.0  2124.21300  1084.732044  ...  3826.35  3998.0  2146.5\n",
              "sc_h           2000.0    12.30650     4.213245  ...    19.00    19.0    12.0\n",
              "sc_w           2000.0     5.76700     4.356398  ...    14.00    18.0     5.0\n",
              "talk_time      2000.0    11.01100     5.463955  ...    20.00    20.0    11.0\n",
              "three_g        2000.0     0.76150     0.426273  ...     1.00     1.0     1.0\n",
              "touch_screen   2000.0     0.50300     0.500116  ...     1.00     1.0     1.0\n",
              "wifi           2000.0     0.50700     0.500076  ...     1.00     1.0     1.0\n",
              "price_range    2000.0     1.50000     1.118314  ...     3.00     3.0     1.5\n",
              "\n",
              "[21 rows x 14 columns]"
            ]
          },
          "metadata": {
            "tags": []
          },
          "execution_count": 3
        }
      ]
    },
    {
      "cell_type": "code",
      "metadata": {
        "id": "JdISfryq6KNg",
        "colab_type": "code",
        "colab": {}
      },
      "source": [
        "# Let's check the unique values\n",
        "train.nunique()"
      ],
      "execution_count": 0,
      "outputs": []
    },
    {
      "cell_type": "code",
      "metadata": {
        "id": "uMVavi1WsDw9",
        "colab_type": "code",
        "colab": {}
      },
      "source": [
        "# corr = train.corr().copy()\n",
        "plt.figure(figsize=[20,18])\n",
        "sns.heatmap(corr,fmt='.2g',cmap=\"YlGnBu\",annot=True)"
      ],
      "execution_count": 0,
      "outputs": []
    },
    {
      "cell_type": "code",
      "metadata": {
        "id": "xRx_FfvZ7TBw",
        "colab_type": "code",
        "colab": {}
      },
      "source": [
        "# Let's check the discrete values of a dataframe\n",
        "for columns in train.columns:\n",
        "  print('Distinct values of \"{0}\" is {1}: '.format(columns,train[columns].unique()))"
      ],
      "execution_count": 0,
      "outputs": []
    },
    {
      "cell_type": "code",
      "metadata": {
        "id": "fAxOWAwA7tho",
        "colab_type": "code",
        "outputId": "d978c786-1f9c-4f62-81c7-569cb740bc1f",
        "colab": {
          "base_uri": "https://localhost:8080/",
          "height": 383
        }
      },
      "source": [
        "# Let's scale the remaining variables\n",
        "cols =  train.drop('price_range',axis=1).columns\n",
        "\n",
        "# Let's scale the variables\n",
        "scale = StandardScaler()\n",
        "train[cols] = scale.fit_transform(train[cols])\n",
        "test[cols] = scale.transform(test[cols])\n",
        "\n",
        "train.describe()"
      ],
      "execution_count": 0,
      "outputs": [
        {
          "output_type": "execute_result",
          "data": {
            "text/html": [
              "<div>\n",
              "<style scoped>\n",
              "    .dataframe tbody tr th:only-of-type {\n",
              "        vertical-align: middle;\n",
              "    }\n",
              "\n",
              "    .dataframe tbody tr th {\n",
              "        vertical-align: top;\n",
              "    }\n",
              "\n",
              "    .dataframe thead th {\n",
              "        text-align: right;\n",
              "    }\n",
              "</style>\n",
              "<table border=\"1\" class=\"dataframe\">\n",
              "  <thead>\n",
              "    <tr style=\"text-align: right;\">\n",
              "      <th></th>\n",
              "      <th>battery_power</th>\n",
              "      <th>blue</th>\n",
              "      <th>clock_speed</th>\n",
              "      <th>dual_sim</th>\n",
              "      <th>fc</th>\n",
              "      <th>four_g</th>\n",
              "      <th>int_memory</th>\n",
              "      <th>m_dep</th>\n",
              "      <th>mobile_wt</th>\n",
              "      <th>n_cores</th>\n",
              "      <th>pc</th>\n",
              "      <th>px_height</th>\n",
              "      <th>px_width</th>\n",
              "      <th>ram</th>\n",
              "      <th>sc_h</th>\n",
              "      <th>sc_w</th>\n",
              "      <th>talk_time</th>\n",
              "      <th>three_g</th>\n",
              "      <th>touch_screen</th>\n",
              "      <th>wifi</th>\n",
              "      <th>price_range</th>\n",
              "    </tr>\n",
              "  </thead>\n",
              "  <tbody>\n",
              "    <tr>\n",
              "      <th>count</th>\n",
              "      <td>2.000000e+03</td>\n",
              "      <td>2.000000e+03</td>\n",
              "      <td>2.000000e+03</td>\n",
              "      <td>2.000000e+03</td>\n",
              "      <td>2.000000e+03</td>\n",
              "      <td>2.000000e+03</td>\n",
              "      <td>2.000000e+03</td>\n",
              "      <td>2.000000e+03</td>\n",
              "      <td>2.000000e+03</td>\n",
              "      <td>2.000000e+03</td>\n",
              "      <td>2.000000e+03</td>\n",
              "      <td>2.000000e+03</td>\n",
              "      <td>2.000000e+03</td>\n",
              "      <td>2.000000e+03</td>\n",
              "      <td>2.000000e+03</td>\n",
              "      <td>2.000000e+03</td>\n",
              "      <td>2.000000e+03</td>\n",
              "      <td>2.000000e+03</td>\n",
              "      <td>2.000000e+03</td>\n",
              "      <td>2.000000e+03</td>\n",
              "      <td>2000.000000</td>\n",
              "    </tr>\n",
              "    <tr>\n",
              "      <th>mean</th>\n",
              "      <td>2.128298e-16</td>\n",
              "      <td>-1.927347e-16</td>\n",
              "      <td>-2.172151e-16</td>\n",
              "      <td>3.990142e-16</td>\n",
              "      <td>9.230117e-17</td>\n",
              "      <td>-2.048361e-16</td>\n",
              "      <td>-8.754109e-17</td>\n",
              "      <td>-1.045830e-16</td>\n",
              "      <td>1.804112e-16</td>\n",
              "      <td>-4.690692e-17</td>\n",
              "      <td>1.669775e-16</td>\n",
              "      <td>1.287304e-16</td>\n",
              "      <td>5.595524e-17</td>\n",
              "      <td>-1.582068e-16</td>\n",
              "      <td>3.719247e-17</td>\n",
              "      <td>-4.085621e-17</td>\n",
              "      <td>1.052491e-16</td>\n",
              "      <td>2.184919e-16</td>\n",
              "      <td>3.065326e-16</td>\n",
              "      <td>4.278800e-16</td>\n",
              "      <td>1.500000</td>\n",
              "    </tr>\n",
              "    <tr>\n",
              "      <th>std</th>\n",
              "      <td>1.000250e+00</td>\n",
              "      <td>1.000250e+00</td>\n",
              "      <td>1.000250e+00</td>\n",
              "      <td>1.000250e+00</td>\n",
              "      <td>1.000250e+00</td>\n",
              "      <td>1.000250e+00</td>\n",
              "      <td>1.000250e+00</td>\n",
              "      <td>1.000250e+00</td>\n",
              "      <td>1.000250e+00</td>\n",
              "      <td>1.000250e+00</td>\n",
              "      <td>1.000250e+00</td>\n",
              "      <td>1.000250e+00</td>\n",
              "      <td>1.000250e+00</td>\n",
              "      <td>1.000250e+00</td>\n",
              "      <td>1.000250e+00</td>\n",
              "      <td>1.000250e+00</td>\n",
              "      <td>1.000250e+00</td>\n",
              "      <td>1.000250e+00</td>\n",
              "      <td>1.000250e+00</td>\n",
              "      <td>1.000250e+00</td>\n",
              "      <td>1.118314</td>\n",
              "    </tr>\n",
              "    <tr>\n",
              "      <th>min</th>\n",
              "      <td>-1.678817e+00</td>\n",
              "      <td>-9.900495e-01</td>\n",
              "      <td>-1.253064e+00</td>\n",
              "      <td>-1.019184e+00</td>\n",
              "      <td>-9.928904e-01</td>\n",
              "      <td>-1.043966e+00</td>\n",
              "      <td>-1.656260e+00</td>\n",
              "      <td>-1.393304e+00</td>\n",
              "      <td>-1.702391e+00</td>\n",
              "      <td>-1.539175e+00</td>\n",
              "      <td>-1.635631e+00</td>\n",
              "      <td>-1.454027e+00</td>\n",
              "      <td>-1.739251e+00</td>\n",
              "      <td>-1.722711e+00</td>\n",
              "      <td>-1.734608e+00</td>\n",
              "      <td>-1.324131e+00</td>\n",
              "      <td>-1.649584e+00</td>\n",
              "      <td>-1.786861e+00</td>\n",
              "      <td>-1.006018e+00</td>\n",
              "      <td>-1.014099e+00</td>\n",
              "      <td>0.000000</td>\n",
              "    </tr>\n",
              "    <tr>\n",
              "      <th>25%</th>\n",
              "      <td>-8.804033e-01</td>\n",
              "      <td>-9.900495e-01</td>\n",
              "      <td>-1.007906e+00</td>\n",
              "      <td>-1.019184e+00</td>\n",
              "      <td>-7.624947e-01</td>\n",
              "      <td>-1.043966e+00</td>\n",
              "      <td>-8.845346e-01</td>\n",
              "      <td>-1.046495e+00</td>\n",
              "      <td>-8.829695e-01</td>\n",
              "      <td>-6.647678e-01</td>\n",
              "      <td>-8.109291e-01</td>\n",
              "      <td>-8.167289e-01</td>\n",
              "      <td>-8.719579e-01</td>\n",
              "      <td>-8.453168e-01</td>\n",
              "      <td>-7.849833e-01</td>\n",
              "      <td>-8.649215e-01</td>\n",
              "      <td>-9.173306e-01</td>\n",
              "      <td>5.596406e-01</td>\n",
              "      <td>-1.006018e+00</td>\n",
              "      <td>-1.014099e+00</td>\n",
              "      <td>0.750000</td>\n",
              "    </tr>\n",
              "    <tr>\n",
              "      <th>50%</th>\n",
              "      <td>-2.849593e-02</td>\n",
              "      <td>-9.900495e-01</td>\n",
              "      <td>-2.727384e-02</td>\n",
              "      <td>9.811771e-01</td>\n",
              "      <td>-3.017032e-01</td>\n",
              "      <td>9.578860e-01</td>\n",
              "      <td>-2.563229e-03</td>\n",
              "      <td>-6.069151e-03</td>\n",
              "      <td>2.122020e-02</td>\n",
              "      <td>-2.275644e-01</td>\n",
              "      <td>1.377252e-02</td>\n",
              "      <td>-1.828116e-01</td>\n",
              "      <td>-1.045034e-02</td>\n",
              "      <td>2.055123e-02</td>\n",
              "      <td>-7.276497e-02</td>\n",
              "      <td>-1.761069e-01</td>\n",
              "      <td>-2.013697e-03</td>\n",
              "      <td>5.596406e-01</td>\n",
              "      <td>9.940179e-01</td>\n",
              "      <td>9.860966e-01</td>\n",
              "      <td>1.500000</td>\n",
              "    </tr>\n",
              "    <tr>\n",
              "      <th>75%</th>\n",
              "      <td>8.575560e-01</td>\n",
              "      <td>1.010051e+00</td>\n",
              "      <td>8.307794e-01</td>\n",
              "      <td>9.811771e-01</td>\n",
              "      <td>6.198797e-01</td>\n",
              "      <td>9.578860e-01</td>\n",
              "      <td>8.794082e-01</td>\n",
              "      <td>1.034357e+00</td>\n",
              "      <td>8.406421e-01</td>\n",
              "      <td>1.084046e+00</td>\n",
              "      <td>8.384742e-01</td>\n",
              "      <td>6.810064e-01</td>\n",
              "      <td>8.828792e-01</td>\n",
              "      <td>8.670548e-01</td>\n",
              "      <td>8.768595e-01</td>\n",
              "      <td>7.423125e-01</td>\n",
              "      <td>9.133032e-01</td>\n",
              "      <td>5.596406e-01</td>\n",
              "      <td>9.940179e-01</td>\n",
              "      <td>9.860966e-01</td>\n",
              "      <td>2.250000</td>\n",
              "    </tr>\n",
              "    <tr>\n",
              "      <th>max</th>\n",
              "      <td>1.728812e+00</td>\n",
              "      <td>1.010051e+00</td>\n",
              "      <td>1.811412e+00</td>\n",
              "      <td>9.811771e-01</td>\n",
              "      <td>3.384628e+00</td>\n",
              "      <td>9.578860e-01</td>\n",
              "      <td>1.761380e+00</td>\n",
              "      <td>1.727974e+00</td>\n",
              "      <td>1.688320e+00</td>\n",
              "      <td>1.521249e+00</td>\n",
              "      <td>1.663176e+00</td>\n",
              "      <td>2.963672e+00</td>\n",
              "      <td>1.727608e+00</td>\n",
              "      <td>1.727851e+00</td>\n",
              "      <td>1.589078e+00</td>\n",
              "      <td>2.808756e+00</td>\n",
              "      <td>1.645557e+00</td>\n",
              "      <td>5.596406e-01</td>\n",
              "      <td>9.940179e-01</td>\n",
              "      <td>9.860966e-01</td>\n",
              "      <td>3.000000</td>\n",
              "    </tr>\n",
              "  </tbody>\n",
              "</table>\n",
              "</div>"
            ],
            "text/plain": [
              "       battery_power          blue  ...          wifi  price_range\n",
              "count   2.000000e+03  2.000000e+03  ...  2.000000e+03  2000.000000\n",
              "mean    2.128298e-16 -1.927347e-16  ...  4.278800e-16     1.500000\n",
              "std     1.000250e+00  1.000250e+00  ...  1.000250e+00     1.118314\n",
              "min    -1.678817e+00 -9.900495e-01  ... -1.014099e+00     0.000000\n",
              "25%    -8.804033e-01 -9.900495e-01  ... -1.014099e+00     0.750000\n",
              "50%    -2.849593e-02 -9.900495e-01  ...  9.860966e-01     1.500000\n",
              "75%     8.575560e-01  1.010051e+00  ...  9.860966e-01     2.250000\n",
              "max     1.728812e+00  1.010051e+00  ...  9.860966e-01     3.000000\n",
              "\n",
              "[8 rows x 21 columns]"
            ]
          },
          "metadata": {
            "tags": []
          },
          "execution_count": 4
        }
      ]
    },
    {
      "cell_type": "code",
      "metadata": {
        "id": "6Rn9DGp8QL5K",
        "colab_type": "code",
        "colab": {}
      },
      "source": [
        "X = train.drop('price_range',axis=1)\n",
        "y = train['price_range']\n",
        "X_train, X_test, y_train, y_test = train_test_split(X, y, test_size=0.3, random_state=42)"
      ],
      "execution_count": 0,
      "outputs": []
    },
    {
      "cell_type": "code",
      "metadata": {
        "id": "8PVBsokORF9K",
        "colab_type": "code",
        "outputId": "c91e338d-6288-418f-8f57-4240ed2d2cc4",
        "colab": {
          "base_uri": "https://localhost:8080/",
          "height": 222
        }
      },
      "source": [
        "X_train.head()"
      ],
      "execution_count": 0,
      "outputs": [
        {
          "output_type": "execute_result",
          "data": {
            "text/html": [
              "<div>\n",
              "<style scoped>\n",
              "    .dataframe tbody tr th:only-of-type {\n",
              "        vertical-align: middle;\n",
              "    }\n",
              "\n",
              "    .dataframe tbody tr th {\n",
              "        vertical-align: top;\n",
              "    }\n",
              "\n",
              "    .dataframe thead th {\n",
              "        text-align: right;\n",
              "    }\n",
              "</style>\n",
              "<table border=\"1\" class=\"dataframe\">\n",
              "  <thead>\n",
              "    <tr style=\"text-align: right;\">\n",
              "      <th></th>\n",
              "      <th>battery_power</th>\n",
              "      <th>blue</th>\n",
              "      <th>clock_speed</th>\n",
              "      <th>dual_sim</th>\n",
              "      <th>fc</th>\n",
              "      <th>four_g</th>\n",
              "      <th>int_memory</th>\n",
              "      <th>m_dep</th>\n",
              "      <th>mobile_wt</th>\n",
              "      <th>n_cores</th>\n",
              "      <th>pc</th>\n",
              "      <th>px_height</th>\n",
              "      <th>px_width</th>\n",
              "      <th>ram</th>\n",
              "      <th>sc_h</th>\n",
              "      <th>sc_w</th>\n",
              "      <th>talk_time</th>\n",
              "      <th>three_g</th>\n",
              "      <th>touch_screen</th>\n",
              "      <th>wifi</th>\n",
              "    </tr>\n",
              "  </thead>\n",
              "  <tbody>\n",
              "    <tr>\n",
              "      <th>836</th>\n",
              "      <td>-0.766019</td>\n",
              "      <td>1.010051</td>\n",
              "      <td>-1.130485</td>\n",
              "      <td>0.981177</td>\n",
              "      <td>-0.992890</td>\n",
              "      <td>-1.043966</td>\n",
              "      <td>1.706256</td>\n",
              "      <td>0.687548</td>\n",
              "      <td>-0.515642</td>\n",
              "      <td>0.209639</td>\n",
              "      <td>0.673534</td>\n",
              "      <td>-0.633597</td>\n",
              "      <td>0.251068</td>\n",
              "      <td>1.410643</td>\n",
              "      <td>1.351672</td>\n",
              "      <td>0.512708</td>\n",
              "      <td>0.730240</td>\n",
              "      <td>-1.786861</td>\n",
              "      <td>0.994018</td>\n",
              "      <td>0.986097</td>\n",
              "    </tr>\n",
              "    <tr>\n",
              "      <th>575</th>\n",
              "      <td>-0.094509</td>\n",
              "      <td>1.010051</td>\n",
              "      <td>-1.253064</td>\n",
              "      <td>0.981177</td>\n",
              "      <td>1.080671</td>\n",
              "      <td>-1.043966</td>\n",
              "      <td>-0.664042</td>\n",
              "      <td>-1.393304</td>\n",
              "      <td>-0.317851</td>\n",
              "      <td>0.209639</td>\n",
              "      <td>0.013773</td>\n",
              "      <td>-0.971686</td>\n",
              "      <td>1.061082</td>\n",
              "      <td>0.701535</td>\n",
              "      <td>1.589078</td>\n",
              "      <td>0.283103</td>\n",
              "      <td>0.547176</td>\n",
              "      <td>0.559641</td>\n",
              "      <td>0.994018</td>\n",
              "      <td>0.986097</td>\n",
              "    </tr>\n",
              "    <tr>\n",
              "      <th>557</th>\n",
              "      <td>0.638462</td>\n",
              "      <td>-0.990050</td>\n",
              "      <td>0.708200</td>\n",
              "      <td>-1.019184</td>\n",
              "      <td>-0.992890</td>\n",
              "      <td>-1.043966</td>\n",
              "      <td>-0.002563</td>\n",
              "      <td>0.687548</td>\n",
              "      <td>1.688320</td>\n",
              "      <td>-1.539175</td>\n",
              "      <td>0.013773</td>\n",
              "      <td>-1.075367</td>\n",
              "      <td>-0.028965</td>\n",
              "      <td>0.726432</td>\n",
              "      <td>-0.310171</td>\n",
              "      <td>0.971917</td>\n",
              "      <td>0.730240</td>\n",
              "      <td>0.559641</td>\n",
              "      <td>0.994018</td>\n",
              "      <td>-1.014099</td>\n",
              "    </tr>\n",
              "    <tr>\n",
              "      <th>1235</th>\n",
              "      <td>1.667352</td>\n",
              "      <td>1.010051</td>\n",
              "      <td>-1.253064</td>\n",
              "      <td>0.981177</td>\n",
              "      <td>-0.992890</td>\n",
              "      <td>-1.043966</td>\n",
              "      <td>0.438422</td>\n",
              "      <td>-0.699686</td>\n",
              "      <td>1.292737</td>\n",
              "      <td>1.084046</td>\n",
              "      <td>1.498235</td>\n",
              "      <td>-0.360872</td>\n",
              "      <td>-0.762606</td>\n",
              "      <td>-1.432244</td>\n",
              "      <td>-1.022389</td>\n",
              "      <td>0.283103</td>\n",
              "      <td>1.096367</td>\n",
              "      <td>0.559641</td>\n",
              "      <td>0.994018</td>\n",
              "      <td>-1.014099</td>\n",
              "    </tr>\n",
              "    <tr>\n",
              "      <th>1360</th>\n",
              "      <td>-0.811545</td>\n",
              "      <td>-0.990050</td>\n",
              "      <td>-1.007906</td>\n",
              "      <td>0.981177</td>\n",
              "      <td>1.080671</td>\n",
              "      <td>0.957886</td>\n",
              "      <td>-0.223056</td>\n",
              "      <td>-1.046495</td>\n",
              "      <td>0.303779</td>\n",
              "      <td>0.646842</td>\n",
              "      <td>1.003414</td>\n",
              "      <td>-0.895053</td>\n",
              "      <td>-0.850550</td>\n",
              "      <td>-1.266263</td>\n",
              "      <td>1.589078</td>\n",
              "      <td>1.201522</td>\n",
              "      <td>-0.551204</td>\n",
              "      <td>0.559641</td>\n",
              "      <td>-1.006018</td>\n",
              "      <td>0.986097</td>\n",
              "    </tr>\n",
              "  </tbody>\n",
              "</table>\n",
              "</div>"
            ],
            "text/plain": [
              "      battery_power      blue  clock_speed  ...   three_g  touch_screen      wifi\n",
              "836       -0.766019  1.010051    -1.130485  ... -1.786861      0.994018  0.986097\n",
              "575       -0.094509  1.010051    -1.253064  ...  0.559641      0.994018  0.986097\n",
              "557        0.638462 -0.990050     0.708200  ...  0.559641      0.994018 -1.014099\n",
              "1235       1.667352  1.010051    -1.253064  ...  0.559641      0.994018 -1.014099\n",
              "1360      -0.811545 -0.990050    -1.007906  ...  0.559641     -1.006018  0.986097\n",
              "\n",
              "[5 rows x 20 columns]"
            ]
          },
          "metadata": {
            "tags": []
          },
          "execution_count": 7
        }
      ]
    },
    {
      "cell_type": "markdown",
      "metadata": {
        "id": "Cmdo1moOWRxM",
        "colab_type": "text"
      },
      "source": [
        "### GridsearchCV using DecisionTreeClassifier"
      ]
    },
    {
      "cell_type": "code",
      "metadata": {
        "id": "-3RHaeIARNnZ",
        "colab_type": "code",
        "outputId": "7f0d6fe4-66e1-4ee9-8fdc-ba5fc4c01c98",
        "colab": {
          "base_uri": "https://localhost:8080/",
          "height": 268
        }
      },
      "source": [
        "parameters = {'max_depth':range(1,50,3)}\n",
        "dt = DecisionTreeClassifier(criterion='gini')\n",
        "model = GridSearchCV(dt,param_grid=parameters,scoring='accuracy',cv=5,return_train_score=True)\n",
        "model.fit(X_train,y_train)\n",
        "cv = pd.DataFrame(model.cv_results_)\n",
        "cv.head(2)\n",
        "\n",
        "plt.figure(figsize=[6,4])\n",
        "plt.plot(cv['param_max_depth'],cv['mean_train_score'])\n",
        "plt.plot(cv['param_max_depth'],cv['mean_test_score'])\n",
        "plt.show()"
      ],
      "execution_count": 0,
      "outputs": [
        {
          "output_type": "display_data",
          "data": {
            "image/png": "[encoded data removed]",
            "text/plain": [
              "<Figure size 432x288 with 1 Axes>"
            ]
          },
          "metadata": {
            "tags": []
          }
        }
      ]
    },
    {
      "cell_type": "code",
      "metadata": {
        "id": "71Klc2stsIJh",
        "colab_type": "code",
        "outputId": "4fba4e8e-cd7a-48c3-f066-70701a6f7dc9",
        "colab": {
          "base_uri": "https://localhost:8080/",
          "height": 268
        }
      },
      "source": [
        "parameters = {'max_depth':range(1,50,3)}\n",
        "dt = DecisionTreeClassifier(criterion='entropy')\n",
        "model = GridSearchCV(dt,param_grid=parameters,scoring='accuracy',cv=5,return_train_score=True)\n",
        "model.fit(X_train,y_train)\n",
        "cv = pd.DataFrame(model.cv_results_)\n",
        "cv.head(2)\n",
        "\n",
        "plt.figure(figsize=[6,4])\n",
        "plt.plot(cv['param_max_depth'],cv['mean_train_score'])\n",
        "plt.plot(cv['param_max_depth'],cv['mean_test_score'])\n",
        "plt.show()"
      ],
      "execution_count": 0,
      "outputs": [
        {
          "output_type": "display_data",
          "data": {
            "image/png": "[encoded data removed]",
            "text/plain": [
              "<Figure size 432x288 with 1 Axes>"
            ]
          },
          "metadata": {
            "tags": []
          }
        }
      ]
    },
    {
      "cell_type": "code",
      "metadata": {
        "id": "36OMDqKwowrj",
        "colab_type": "code",
        "outputId": "3a94caa8-4feb-41e4-943e-527ac6a66d2e",
        "colab": {
          "base_uri": "https://localhost:8080/",
          "height": 268
        }
      },
      "source": [
        "parameters = {'min_samples_split':range(100,200,2)}\n",
        "dt = DecisionTreeClassifier(criterion='gini')\n",
        "model = GridSearchCV(dt,param_grid=parameters,scoring='accuracy',cv=5,return_train_score=True)\n",
        "model.fit(X_train,y_train)\n",
        "cv = pd.DataFrame(model.cv_results_)\n",
        "cv.head(2)\n",
        "\n",
        "# param_min_samples_split\n",
        "plt.figure(figsize=[6,4])\n",
        "plt.plot(cv['param_min_samples_split'],cv['mean_train_score'])\n",
        "plt.plot(cv['param_min_samples_split'],cv['mean_test_score'])\n",
        "plt.show()"
      ],
      "execution_count": 0,
      "outputs": [
        {
          "output_type": "display_data",
          "data": {
            "image/png": "[encoded data removed]",
            "text/plain": [
              "<Figure size 432x288 with 1 Axes>"
            ]
          },
          "metadata": {
            "tags": []
          }
        }
      ]
    },
    {
      "cell_type": "code",
      "metadata": {
        "id": "bq8ggWktsURF",
        "colab_type": "code",
        "outputId": "6cd22393-7d0b-4a42-8242-33750fbd69d1",
        "colab": {
          "base_uri": "https://localhost:8080/",
          "height": 268
        }
      },
      "source": [
        "parameters = {'min_samples_split':range(100,200,2)}\n",
        "dt = DecisionTreeClassifier(criterion='entropy')\n",
        "model = GridSearchCV(dt,param_grid=parameters,scoring='accuracy',cv=5,return_train_score=True)\n",
        "model.fit(X_train,y_train)\n",
        "cv = pd.DataFrame(model.cv_results_)\n",
        "cv.head(2)\n",
        "\n",
        "# param_min_samples_split\n",
        "plt.figure(figsize=[6,4])\n",
        "plt.plot(cv['param_min_samples_split'],cv['mean_train_score'])\n",
        "plt.plot(cv['param_min_samples_split'],cv['mean_test_score'])\n",
        "plt.show()"
      ],
      "execution_count": 0,
      "outputs": [
        {
          "output_type": "display_data",
          "data": {
            "image/png": "[encoded data removed]",
            "text/plain": [
              "<Figure size 432x288 with 1 Axes>"
            ]
          },
          "metadata": {
            "tags": []
          }
        }
      ]
    },
    {
      "cell_type": "code",
      "metadata": {
        "id": "jLVppZzWqtVX",
        "colab_type": "code",
        "outputId": "315eccb1-40b9-43fc-dbe4-bf1f70f5a08e",
        "colab": {
          "base_uri": "https://localhost:8080/",
          "height": 268
        }
      },
      "source": [
        "parameters = {'min_samples_leaf':range(50,200,2)}\n",
        "dt = DecisionTreeClassifier(criterion='gini')\n",
        "model = GridSearchCV(dt,param_grid=parameters,scoring='accuracy',cv=5,return_train_score=True)\n",
        "model.fit(X_train,y_train)\n",
        "cv = pd.DataFrame(model.cv_results_)\n",
        "cv.head(2)\n",
        "\n",
        "# param_min_samples_leaf\n",
        "plt.figure(figsize=[6,4])\n",
        "plt.plot(cv['param_min_samples_leaf'],cv['mean_train_score'])\n",
        "plt.plot(cv['param_min_samples_leaf'],cv['mean_test_score'])\n",
        "plt.show()"
      ],
      "execution_count": 0,
      "outputs": [
        {
          "output_type": "display_data",
          "data": {
            "image/png": "[encoded data removed]",
            "text/plain": [
              "<Figure size 432x288 with 1 Axes>"
            ]
          },
          "metadata": {
            "tags": []
          }
        }
      ]
    },
    {
      "cell_type": "code",
      "metadata": {
        "id": "rC4riBdFrMDt",
        "colab_type": "code",
        "outputId": "355cf27b-8384-4c83-ded0-0733cccf2373",
        "colab": {
          "base_uri": "https://localhost:8080/",
          "height": 268
        }
      },
      "source": [
        "parameters = {'max_leaf_nodes':range(2,400,10)}\n",
        "dt = DecisionTreeClassifier(criterion='gini')\n",
        "model = GridSearchCV(dt,param_grid=parameters,scoring='accuracy',cv=5,return_train_score=True)\n",
        "model.fit(X_train,y_train)\n",
        "cv = pd.DataFrame(model.cv_results_)\n",
        "cv.head(2)\n",
        "\n",
        "# param_max_leaf_nodes\n",
        "plt.figure(figsize=[6,4])\n",
        "plt.plot(cv['param_max_leaf_nodes'],cv['mean_train_score'])\n",
        "plt.plot(cv['param_max_leaf_nodes'],cv['mean_test_score'])\n",
        "plt.show()"
      ],
      "execution_count": 0,
      "outputs": [
        {
          "output_type": "display_data",
          "data": {
            "image/png": "[encoded data removed]",
            "text/plain": [
              "<Figure size 432x288 with 1 Axes>"
            ]
          },
          "metadata": {
            "tags": []
          }
        }
      ]
    },
    {
      "cell_type": "code",
      "metadata": {
        "id": "FUTOQB-fRm_T",
        "colab_type": "code",
        "outputId": "a4d19e4c-aa1e-4f14-8bed-f6094c61aadd",
        "colab": {
          "base_uri": "https://localhost:8080/",
          "height": 87
        }
      },
      "source": [
        "#########################################################\n",
        "# Gini\n",
        "parameters = {'criterion':['gini'],'min_samples_split':[190],'max_depth':[7],'min_samples_leaf':[110],'max_leaf_nodes':[35]}\n",
        "g_dt = DecisionTreeClassifier()\n",
        "GcV1 = GridSearchCV(g_dt,param_grid=parameters,scoring='accuracy')\n",
        "model1 = GcV1.fit(X_train,y_train)\n",
        "# model.score\n",
        "print(\"Score is {:.3f}\".format(model1.score(X_test,y_test)))\n",
        "print(\"Score is {:.3f}\".format(model1.score(X_train,y_train)))\n",
        "\n",
        "#########################################################\n",
        "# Entropy\n",
        "parameters = {'criterion':['entropy'],'min_samples_split':[190],'max_depth':[7],'min_samples_leaf':[110],'max_leaf_nodes':[35]}\n",
        "dt = DecisionTreeClassifier()\n",
        "GcV = GridSearchCV(dt,param_grid=parameters,scoring='accuracy')\n",
        "model = GcV.fit(X_train,y_train)\n",
        "# model.score\n",
        "print(\"Score is {:.3f}\".format(model.score(X_test,y_test)))\n",
        "print(\"Score is {:.3f}\".format(model.score(X_train,y_train)))"
      ],
      "execution_count": 0,
      "outputs": [
        {
          "output_type": "stream",
          "text": [
            "Score is 0.750\n",
            "Score is 0.768\n",
            "Score is 0.750\n",
            "Score is 0.768\n"
          ],
          "name": "stdout"
        }
      ]
    },
    {
      "cell_type": "markdown",
      "metadata": {
        "id": "pLmG3iB3WbrQ",
        "colab_type": "text"
      },
      "source": [
        "### GridsearchCV using SVM"
      ]
    },
    {
      "cell_type": "code",
      "metadata": {
        "id": "uY9iUMb-XSLO",
        "colab_type": "code",
        "outputId": "362d11aa-51e8-454b-a1f3-ffba3a8463c7",
        "colab": {
          "base_uri": "https://localhost:8080/",
          "height": 268
        }
      },
      "source": [
        "svm = SVC()\n",
        "parameters = {'C':range(1,20,1)}\n",
        "GcV = GridSearchCV(svm,param_grid=parameters,scoring='accuracy',cv=5,return_train_score=True)\n",
        "GcV.fit(X_train,y_train)\n",
        "\n",
        "# Export data\n",
        "cv = pd.DataFrame(GcV.cv_results_)\n",
        "cv.head(2)\n",
        "\n",
        "# param_C\n",
        "plt.figure(figsize=[6,4])\n",
        "plt.plot(cv['param_C'],cv['mean_train_score'])\n",
        "plt.plot(cv['param_C'],cv['mean_test_score'])\n",
        "plt.show()"
      ],
      "execution_count": 0,
      "outputs": [
        {
          "output_type": "display_data",
          "data": {
            "image/png": "[encoded data removed]",
            "text/plain": [
              "<Figure size 432x288 with 1 Axes>"
            ]
          },
          "metadata": {
            "tags": []
          }
        }
      ]
    },
    {
      "cell_type": "code",
      "metadata": {
        "id": "V0Tx4acrCjlv",
        "colab_type": "code",
        "outputId": "7a3dba4e-6b50-4f6d-f9cb-d3f9e1683de7",
        "colab": {
          "base_uri": "https://localhost:8080/",
          "height": 268
        }
      },
      "source": [
        "svm = SVC()\n",
        "parameters = {'degree':range(1,10,1)}\n",
        "GcV = GridSearchCV(svm,param_grid=parameters,scoring='accuracy',cv=5,return_train_score=True)\n",
        "GcV.fit(X_train,y_train)\n",
        "\n",
        "# Export data\n",
        "cv = pd.DataFrame(GcV.cv_results_)\n",
        "cv.head()\n",
        "\n",
        "# param_degree\n",
        "plt.figure(figsize=[6,4])\n",
        "plt.plot(cv['param_degree'],cv['mean_train_score'])\n",
        "plt.plot(cv['param_degree'],cv['mean_test_score'])\n",
        "plt.show()"
      ],
      "execution_count": 0,
      "outputs": [
        {
          "output_type": "display_data",
          "data": {
            "image/png": "[encoded data removed]",
            "text/plain": [
              "<Figure size 432x288 with 1 Axes>"
            ]
          },
          "metadata": {
            "tags": []
          }
        }
      ]
    },
    {
      "cell_type": "code",
      "metadata": {
        "id": "BN9CGgQpDekz",
        "colab_type": "code",
        "outputId": "addeab2b-05a3-4943-a40b-e2fc2e83aea8",
        "colab": {
          "base_uri": "https://localhost:8080/",
          "height": 268
        }
      },
      "source": [
        "svm = SVC()\n",
        "parameters = {'gamma':[0.1,0.2,.3,.4,.5,.6,.7,.8,.9]}\n",
        "GcV = GridSearchCV(svm,param_grid=parameters,scoring='accuracy',cv=5,return_train_score=True)\n",
        "GcV.fit(X_train,y_train)\n",
        "\n",
        "# Export data\n",
        "cv = pd.DataFrame(GcV.cv_results_)\n",
        "cv.head()\n",
        "\n",
        "# param_gamma\n",
        "plt.figure(figsize=[6,4])\n",
        "plt.plot(cv['param_gamma'],cv['mean_train_score'])\n",
        "plt.plot(cv['param_gamma'],cv['mean_test_score'])\n",
        "plt.show()"
      ],
      "execution_count": 0,
      "outputs": [
        {
          "output_type": "display_data",
          "data": {
            "image/png": "[encoded data removed]",
            "text/plain": [
              "<Figure size 432x288 with 1 Axes>"
            ]
          },
          "metadata": {
            "tags": []
          }
        }
      ]
    },
    {
      "cell_type": "code",
      "metadata": {
        "id": "A7wbkN3rFM6f",
        "colab_type": "code",
        "outputId": "602aecbe-e33c-4540-c805-cbbd11f91129",
        "colab": {
          "base_uri": "https://localhost:8080/",
          "height": 156
        }
      },
      "source": [
        "# Kernels:rbf\n",
        "svc = SVC(C=1,kernel='rbf',degree=1,gamma=0.1)\n",
        "model = svc.fit(X_train,y_train)\n",
        "\n",
        "print(\"Score for rbf is {:.3f}\".format(model.score(X_test,y_test)))\n",
        "print(\"Score for rbf is {:.3f}\".format(model.score(X_train,y_train)))\n",
        "\n",
        "# Kernels:poly\n",
        "svc = SVC(C=1,kernel='poly',degree=1,gamma=0.1)\n",
        "model = svc.fit(X_train,y_train)\n",
        "\n",
        "print(\"Score for poly is {:.3f}\".format(model.score(X_test,y_test)))\n",
        "print(\"Score for poly is {:.3f}\".format(model.score(X_train,y_train)))\n",
        "\n",
        "# Kernels:linear\n",
        "svc = SVC(C=1,kernel='linear',degree=1,gamma=0.1)\n",
        "model = svc.fit(X_train,y_train)\n",
        "\n",
        "print(\"Score for Linear is {:.3f}\".format(model.score(X_test,y_test)))\n",
        "print(\"Score for Linear is {:.3f}\".format(model.score(X_train,y_train)))\n",
        "\n",
        "# Kernels:sigmoid\n",
        "svc = SVC(C=1,kernel='sigmoid',degree=1,gamma=0.1)\n",
        "model = svc.fit(X_train,y_train)\n",
        "\n",
        "print(\"Score for sigmoid is {:.3f}\".format(model.score(X_test,y_test)))\n",
        "print(\"Score for sigmoid is {:.3f}\".format(model.score(X_train,y_train)))"
      ],
      "execution_count": 0,
      "outputs": [
        {
          "output_type": "stream",
          "text": [
            "Score for rbf is 0.805\n",
            "Score for rbf is 0.998\n",
            "Score for poly is 0.937\n",
            "Score for poly is 0.958\n",
            "Score for Linear is 0.953\n",
            "Score for Linear is 0.977\n",
            "Score for sigmoid is 0.860\n",
            "Score for sigmoid is 0.623\n"
          ],
          "name": "stdout"
        }
      ]
    },
    {
      "cell_type": "markdown",
      "metadata": {
        "id": "oWT7bokaGnRX",
        "colab_type": "text"
      },
      "source": [
        "### Decision Tree using RandomForest\n"
      ]
    },
    {
      "cell_type": "code",
      "metadata": {
        "id": "1mYls98DGkEU",
        "colab_type": "code",
        "outputId": "18323763-de9d-40f8-fbea-240a65f8e87c",
        "colab": {
          "base_uri": "https://localhost:8080/",
          "height": 268
        }
      },
      "source": [
        "RF = RandomForestClassifier()\n",
        "parameters = {'n_estimators':range(2000,3000,200)}\n",
        "GcV = GridSearchCV(RF,param_grid=parameters,scoring='accuracy',cv=5,return_train_score=True)\n",
        "GcV.fit(X_train,y_train)\n",
        "\n",
        "# Export data\n",
        "cv = pd.DataFrame(GcV.cv_results_)\n",
        "# cv.head()\n",
        "\n",
        "# param_n_estimators\n",
        "plt.figure(figsize=[6,4])\n",
        "plt.plot(cv['param_n_estimators'],cv['mean_train_score'])\n",
        "plt.plot(cv['param_n_estimators'],cv['mean_test_score'])\n",
        "plt.show()"
      ],
      "execution_count": 0,
      "outputs": [
        {
          "output_type": "display_data",
          "data": {
            "image/png": "[encoded data removed]",
            "text/plain": [
              "<Figure size 432x288 with 1 Axes>"
            ]
          },
          "metadata": {
            "tags": []
          }
        }
      ]
    },
    {
      "cell_type": "code",
      "metadata": {
        "id": "AALGGOHpJXsi",
        "colab_type": "code",
        "outputId": "7df43114-c191-4469-9154-3f8ac285376e",
        "colab": {
          "base_uri": "https://localhost:8080/",
          "height": 268
        }
      },
      "source": [
        "RF = RandomForestClassifier()\n",
        "parameters = {'max_depth':range(50,500,50)}\n",
        "GcV = GridSearchCV(RF,param_grid=parameters,scoring='accuracy',cv=5,return_train_score=True)\n",
        "GcV.fit(X_train,y_train)\n",
        "\n",
        "# Export data\n",
        "cv = pd.DataFrame(GcV.cv_results_)\n",
        "# cv.head()\n",
        "\n",
        "# param_max_depth\n",
        "plt.figure(figsize=[6,4])\n",
        "plt.plot(cv['param_max_depth'],cv['mean_train_score'])\n",
        "plt.plot(cv['param_max_depth'],cv['mean_test_score'])\n",
        "plt.show()"
      ],
      "execution_count": 0,
      "outputs": [
        {
          "output_type": "display_data",
          "data": {
            "image/png": "[encoded data removed]",
            "text/plain": [
              "<Figure size 432x288 with 1 Axes>"
            ]
          },
          "metadata": {
            "tags": []
          }
        }
      ]
    },
    {
      "cell_type": "code",
      "metadata": {
        "id": "reaUHaDQKLCP",
        "colab_type": "code",
        "outputId": "b9cba01d-3a27-4729-cc72-9709a450cbfa",
        "colab": {
          "base_uri": "https://localhost:8080/",
          "height": 268
        }
      },
      "source": [
        "RF = RandomForestClassifier()\n",
        "parameters = {'min_samples_split':range(50,500,50)}\n",
        "GcV = GridSearchCV(RF,param_grid=parameters,scoring='accuracy',cv=5,return_train_score=True)\n",
        "GcV.fit(X_train,y_train)\n",
        "\n",
        "# Export data\n",
        "cv = pd.DataFrame(GcV.cv_results_)\n",
        "# cv.head()\n",
        "\n",
        "# param_min_samples_split\n",
        "plt.figure(figsize=[6,4])\n",
        "plt.plot(cv['param_min_samples_split'],cv['mean_train_score'])\n",
        "plt.plot(cv['param_min_samples_split'],cv['mean_test_score'])\n",
        "plt.show()"
      ],
      "execution_count": 0,
      "outputs": [
        {
          "output_type": "display_data",
          "data": {
            "image/png": "[encoded data removed]",
            "text/plain": [
              "<Figure size 432x288 with 1 Axes>"
            ]
          },
          "metadata": {
            "tags": []
          }
        }
      ]
    },
    {
      "cell_type": "code",
      "metadata": {
        "id": "aqEJ57wdKTsY",
        "colab_type": "code",
        "outputId": "4aff52fe-8543-4729-94fb-78f5b242e72d",
        "colab": {
          "base_uri": "https://localhost:8080/",
          "height": 268
        }
      },
      "source": [
        "RF = RandomForestClassifier()\n",
        "parameters = {'min_samples_leaf':range(50,500,50)}\n",
        "GcV = GridSearchCV(RF,param_grid=parameters,scoring='accuracy',cv=5,return_train_score=True)\n",
        "GcV.fit(X_train,y_train)\n",
        "\n",
        "# Export data\n",
        "cv = pd.DataFrame(GcV.cv_results_)\n",
        "# cv.head()\n",
        "\n",
        "# param_min_samples_leaf\n",
        "plt.figure(figsize=[6,4])\n",
        "plt.plot(cv['param_min_samples_leaf'],cv['mean_train_score'])\n",
        "plt.plot(cv['param_min_samples_leaf'],cv['mean_test_score'])\n",
        "plt.show()"
      ],
      "execution_count": 0,
      "outputs": [
        {
          "output_type": "display_data",
          "data": {
            "image/png": "[encoded data removed]",
            "text/plain": [
              "<Figure size 432x288 with 1 Axes>"
            ]
          },
          "metadata": {
            "tags": []
          }
        }
      ]
    },
    {
      "cell_type": "code",
      "metadata": {
        "id": "bOEGEhg0Kgdp",
        "colab_type": "code",
        "outputId": "70a39107-ca26-41e8-cc34-4cdae090eae9",
        "colab": {
          "base_uri": "https://localhost:8080/",
          "height": 268
        }
      },
      "source": [
        "RF = RandomForestClassifier()\n",
        "parameters = {'max_features':range(1,len(X_train.columns))}\n",
        "GcV = GridSearchCV(RF,param_grid=parameters,scoring='accuracy',cv=5,return_train_score=True)\n",
        "GcV.fit(X_train,y_train)\n",
        "\n",
        "# Export data\n",
        "cv = pd.DataFrame(GcV.cv_results_)\n",
        "# cv.head()\n",
        "\n",
        "# param_max_features\n",
        "plt.figure(figsize=[6,4])\n",
        "plt.plot(cv['param_max_features'],cv['mean_train_score'])\n",
        "plt.plot(cv['param_max_features'],cv['mean_test_score'])\n",
        "plt.show()"
      ],
      "execution_count": 0,
      "outputs": [
        {
          "output_type": "display_data",
          "data": {
            "image/png": "[encoded data removed]",
            "text/plain": [
              "<Figure size 432x288 with 1 Axes>"
            ]
          },
          "metadata": {
            "tags": []
          }
        }
      ]
    },
    {
      "cell_type": "code",
      "metadata": {
        "id": "Y2CBLZKyKza7",
        "colab_type": "code",
        "outputId": "94705df8-866c-44a6-ed8f-32e1cf39ee49",
        "colab": {
          "base_uri": "https://localhost:8080/",
          "height": 87
        }
      },
      "source": [
        "# criterion:gini\n",
        "RF = RandomForestClassifier(n_estimators = 2800,max_depth = 300,min_samples_split = 150,min_samples_leaf = 100,max_features = 7)\n",
        "model = RF.fit(X_train,y_train)\n",
        "\n",
        "print(\"Score for gini is {:.3f}\".format(model.score(X_test,y_test)))\n",
        "print(\"Score for gini is {:.3f}\".format(model.score(X_train,y_train)))\n",
        "\n",
        "# criterion:entropy\n",
        "RF = RandomForestClassifier(n_estimators = 3500,max_depth = 100,min_samples_split = 100,min_samples_leaf = 50,max_features = 5,criterion='entropy')\n",
        "model = RF.fit(X_train,y_train)\n",
        "\n",
        "print(\"Score for entropy is {:.3f}\".format(model.score(X_test,y_test)))\n",
        "print(\"Score for entropy is {:.3f}\".format(model.score(X_train,y_train)))"
      ],
      "execution_count": 0,
      "outputs": [
        {
          "output_type": "stream",
          "text": [
            "Score for gini is 0.798\n",
            "Score for gini is 0.819\n",
            "Score for entropy is 0.848\n",
            "Score for entropy is 0.868\n"
          ],
          "name": "stdout"
        }
      ]
    },
    {
      "cell_type": "markdown",
      "metadata": {
        "id": "l-0yClszP2ia",
        "colab_type": "text"
      },
      "source": [
        "### XGB Classifier"
      ]
    },
    {
      "cell_type": "code",
      "metadata": {
        "id": "H2KJxuC9P1_U",
        "colab_type": "code",
        "outputId": "29947da0-fc76-4687-abc7-4c653dbda6d7",
        "colab": {
          "base_uri": "https://localhost:8080/",
          "height": 268
        }
      },
      "source": [
        "XGB = XGBClassifier()\n",
        "parameters = {'learning_rate':[.1,.2,.3,.4,.5,.6,.7,.8,.9]}\n",
        "GcV = GridSearchCV(XGB,param_grid=parameters,scoring='accuracy',cv=5,return_train_score=True)\n",
        "model = GcV.fit(X_train,y_train)\n",
        "\n",
        "# Export data\n",
        "cv = pd.DataFrame(GcV.cv_results_)\n",
        "cv.head()\n",
        "\n",
        "# param_learning_rate\n",
        "plt.figure(figsize=[6,4])\n",
        "plt.plot(cv['param_learning_rate'],cv['mean_train_score'])\n",
        "plt.plot(cv['param_learning_rate'],cv['mean_test_score'])\n",
        "plt.show()"
      ],
      "execution_count": 0,
      "outputs": [
        {
          "output_type": "display_data",
          "data": {
            "image/png": "[encoded data removed]",
            "text/plain": [
              "<Figure size 432x288 with 1 Axes>"
            ]
          },
          "metadata": {
            "tags": []
          }
        }
      ]
    },
    {
      "cell_type": "code",
      "metadata": {
        "id": "sZkQepLgY9pW",
        "colab_type": "code",
        "outputId": "548df9a0-20c1-480a-a341-ccb0a17ffbf9",
        "colab": {
          "base_uri": "https://localhost:8080/",
          "height": 87
        }
      },
      "source": [
        "# booster (string) – Specify which booster to use: gbtree, gblinear or dart.\n",
        "# gbtree\n",
        "model = XGBClassifier(learning_rate=0.2,n_estimators=1000,max_depth=5,booster='gbtree',gamma=0.1)\n",
        "model.fit(X_train, y_train)\n",
        "\n",
        "print(\"Score for gbtree is {:.3f}\".format(model.score(X_test,y_test)))\n",
        "print(\"Score for gbtree is {:.3f}\".format(model.score(X_train,y_train)))"
      ],
      "execution_count": 0,
      "outputs": [
        {
          "output_type": "stream",
          "text": [
            "Score for gbtree is 0.908\n",
            "Score for gbtree is 1.000\n",
            "Score for dart is 0.908\n",
            "Score for dart is 1.000\n"
          ],
          "name": "stdout"
        }
      ]
    },
    {
      "cell_type": "markdown",
      "metadata": {
        "id": "YIjLyWMzWumg",
        "colab_type": "text"
      },
      "source": [
        "### Selecting the best Model"
      ]
    },
    {
      "cell_type": "code",
      "metadata": {
        "id": "6g5tvh1WWwqa",
        "colab_type": "code",
        "outputId": "ca9bbb86-3e95-40a7-f9a0-6976da5e8ca5",
        "colab": {
          "base_uri": "https://localhost:8080/",
          "height": 52
        }
      },
      "source": [
        "svc = SVC(C=1,kernel='linear',degree=1,gamma=0.1)\n",
        "model = svc.fit(X_train,y_train)\n",
        "\n",
        "print(\"Score for Linear is {:.3f}\".format(model.score(X_test,y_test)))\n",
        "print(\"Score for Linear is {:.3f}\".format(model.score(X_train,y_train)))"
      ],
      "execution_count": 0,
      "outputs": [
        {
          "output_type": "stream",
          "text": [
            "Score for Linear is 0.953\n",
            "Score for Linear is 0.977\n"
          ],
          "name": "stdout"
        }
      ]
    },
    {
      "cell_type": "code",
      "metadata": {
        "id": "D56jRDjiXBT-",
        "colab_type": "code",
        "outputId": "104f7170-931a-42dd-9e73-b8d3737428b3",
        "colab": {
          "base_uri": "https://localhost:8080/",
          "height": 87
        }
      },
      "source": [
        "model"
      ],
      "execution_count": 0,
      "outputs": [
        {
          "output_type": "execute_result",
          "data": {
            "text/plain": [
              "SVC(C=1, break_ties=False, cache_size=200, class_weight=None, coef0=0.0,\n",
              "    decision_function_shape='ovr', degree=1, gamma=0.1, kernel='linear',\n",
              "    max_iter=-1, probability=False, random_state=None, shrinking=True,\n",
              "    tol=0.001, verbose=False)"
            ]
          },
          "metadata": {
            "tags": []
          },
          "execution_count": 10
        }
      ]
    },
    {
      "cell_type": "code",
      "metadata": {
        "id": "z7wcZftLXLhN",
        "colab_type": "code",
        "outputId": "69a3cba9-f198-40ed-b900-67d50c4a8a80",
        "colab": {
          "base_uri": "https://localhost:8080/",
          "height": 222
        }
      },
      "source": [
        "test.head()"
      ],
      "execution_count": 0,
      "outputs": [
        {
          "output_type": "execute_result",
          "data": {
            "text/html": [
              "<div>\n",
              "<style scoped>\n",
              "    .dataframe tbody tr th:only-of-type {\n",
              "        vertical-align: middle;\n",
              "    }\n",
              "\n",
              "    .dataframe tbody tr th {\n",
              "        vertical-align: top;\n",
              "    }\n",
              "\n",
              "    .dataframe thead th {\n",
              "        text-align: right;\n",
              "    }\n",
              "</style>\n",
              "<table border=\"1\" class=\"dataframe\">\n",
              "  <thead>\n",
              "    <tr style=\"text-align: right;\">\n",
              "      <th></th>\n",
              "      <th>id</th>\n",
              "      <th>battery_power</th>\n",
              "      <th>blue</th>\n",
              "      <th>clock_speed</th>\n",
              "      <th>dual_sim</th>\n",
              "      <th>fc</th>\n",
              "      <th>four_g</th>\n",
              "      <th>int_memory</th>\n",
              "      <th>m_dep</th>\n",
              "      <th>mobile_wt</th>\n",
              "      <th>n_cores</th>\n",
              "      <th>pc</th>\n",
              "      <th>px_height</th>\n",
              "      <th>px_width</th>\n",
              "      <th>ram</th>\n",
              "      <th>sc_h</th>\n",
              "      <th>sc_w</th>\n",
              "      <th>talk_time</th>\n",
              "      <th>three_g</th>\n",
              "      <th>touch_screen</th>\n",
              "      <th>wifi</th>\n",
              "    </tr>\n",
              "  </thead>\n",
              "  <tbody>\n",
              "    <tr>\n",
              "      <th>0</th>\n",
              "      <td>1</td>\n",
              "      <td>-0.445060</td>\n",
              "      <td>1.010051</td>\n",
              "      <td>0.340463</td>\n",
              "      <td>0.981177</td>\n",
              "      <td>2.232650</td>\n",
              "      <td>-1.043966</td>\n",
              "      <td>-1.490890</td>\n",
              "      <td>-1.393304</td>\n",
              "      <td>1.490528</td>\n",
              "      <td>-0.664768</td>\n",
              "      <td>1.003414</td>\n",
              "      <td>-0.944639</td>\n",
              "      <td>0.371413</td>\n",
              "      <td>1.246506</td>\n",
              "      <td>-0.072765</td>\n",
              "      <td>0.283103</td>\n",
              "      <td>-1.649584</td>\n",
              "      <td>-1.786861</td>\n",
              "      <td>0.994018</td>\n",
              "      <td>-1.014099</td>\n",
              "    </tr>\n",
              "    <tr>\n",
              "      <th>1</th>\n",
              "      <td>2</td>\n",
              "      <td>-0.904874</td>\n",
              "      <td>1.010051</td>\n",
              "      <td>-1.253064</td>\n",
              "      <td>0.981177</td>\n",
              "      <td>-0.071307</td>\n",
              "      <td>0.957886</td>\n",
              "      <td>1.596010</td>\n",
              "      <td>1.034357</td>\n",
              "      <td>1.434017</td>\n",
              "      <td>0.209639</td>\n",
              "      <td>0.343653</td>\n",
              "      <td>0.227403</td>\n",
              "      <td>-0.913037</td>\n",
              "      <td>1.632873</td>\n",
              "      <td>-1.497202</td>\n",
              "      <td>-1.324131</td>\n",
              "      <td>-0.734267</td>\n",
              "      <td>0.559641</td>\n",
              "      <td>-1.006018</td>\n",
              "      <td>-1.014099</td>\n",
              "    </tr>\n",
              "    <tr>\n",
              "      <th>2</th>\n",
              "      <td>3</td>\n",
              "      <td>1.294038</td>\n",
              "      <td>1.010051</td>\n",
              "      <td>1.566254</td>\n",
              "      <td>-1.019184</td>\n",
              "      <td>-0.762495</td>\n",
              "      <td>-1.043966</td>\n",
              "      <td>-0.278179</td>\n",
              "      <td>1.381165</td>\n",
              "      <td>1.292737</td>\n",
              "      <td>-0.664768</td>\n",
              "      <td>-0.975869</td>\n",
              "      <td>1.408462</td>\n",
              "      <td>0.264954</td>\n",
              "      <td>0.250619</td>\n",
              "      <td>1.114266</td>\n",
              "      <td>0.971917</td>\n",
              "      <td>-0.185077</td>\n",
              "      <td>-1.786861</td>\n",
              "      <td>0.994018</td>\n",
              "      <td>0.986097</td>\n",
              "    </tr>\n",
              "    <tr>\n",
              "      <th>3</th>\n",
              "      <td>4</td>\n",
              "      <td>0.699922</td>\n",
              "      <td>-0.990050</td>\n",
              "      <td>-1.253064</td>\n",
              "      <td>0.981177</td>\n",
              "      <td>3.154233</td>\n",
              "      <td>0.957886</td>\n",
              "      <td>-0.388426</td>\n",
              "      <td>-0.006069</td>\n",
              "      <td>-1.250297</td>\n",
              "      <td>1.521249</td>\n",
              "      <td>1.663176</td>\n",
              "      <td>-0.789118</td>\n",
              "      <td>1.158284</td>\n",
              "      <td>1.631029</td>\n",
              "      <td>-0.547577</td>\n",
              "      <td>-1.324131</td>\n",
              "      <td>-0.734267</td>\n",
              "      <td>0.559641</td>\n",
              "      <td>0.994018</td>\n",
              "      <td>-1.014099</td>\n",
              "    </tr>\n",
              "    <tr>\n",
              "      <th>4</th>\n",
              "      <td>5</td>\n",
              "      <td>0.444976</td>\n",
              "      <td>-0.990050</td>\n",
              "      <td>-0.149853</td>\n",
              "      <td>-1.019184</td>\n",
              "      <td>1.541463</td>\n",
              "      <td>0.957886</td>\n",
              "      <td>0.934531</td>\n",
              "      <td>-0.006069</td>\n",
              "      <td>-0.911225</td>\n",
              "      <td>0.646842</td>\n",
              "      <td>1.333295</td>\n",
              "      <td>0.234165</td>\n",
              "      <td>-1.021810</td>\n",
              "      <td>-0.323860</td>\n",
              "      <td>0.639453</td>\n",
              "      <td>0.512708</td>\n",
              "      <td>-0.734267</td>\n",
              "      <td>0.559641</td>\n",
              "      <td>-1.006018</td>\n",
              "      <td>0.986097</td>\n",
              "    </tr>\n",
              "  </tbody>\n",
              "</table>\n",
              "</div>"
            ],
            "text/plain": [
              "   id  battery_power      blue  ...   three_g  touch_screen      wifi\n",
              "0   1      -0.445060  1.010051  ... -1.786861      0.994018 -1.014099\n",
              "1   2      -0.904874  1.010051  ...  0.559641     -1.006018 -1.014099\n",
              "2   3       1.294038  1.010051  ... -1.786861      0.994018  0.986097\n",
              "3   4       0.699922 -0.990050  ...  0.559641      0.994018 -1.014099\n",
              "4   5       0.444976 -0.990050  ...  0.559641     -1.006018  0.986097\n",
              "\n",
              "[5 rows x 21 columns]"
            ]
          },
          "metadata": {
            "tags": []
          },
          "execution_count": 75
        }
      ]
    },
    {
      "cell_type": "code",
      "metadata": {
        "id": "noSlxaRlXEI0",
        "colab_type": "code",
        "outputId": "503be6c1-4f06-4094-a026-765ae1b3efa8",
        "colab": {
          "base_uri": "https://localhost:8080/",
          "height": 314
        }
      },
      "source": [
        "test.describe()"
      ],
      "execution_count": 0,
      "outputs": [
        {
          "output_type": "execute_result",
          "data": {
            "text/html": [
              "<div>\n",
              "<style scoped>\n",
              "    .dataframe tbody tr th:only-of-type {\n",
              "        vertical-align: middle;\n",
              "    }\n",
              "\n",
              "    .dataframe tbody tr th {\n",
              "        vertical-align: top;\n",
              "    }\n",
              "\n",
              "    .dataframe thead th {\n",
              "        text-align: right;\n",
              "    }\n",
              "</style>\n",
              "<table border=\"1\" class=\"dataframe\">\n",
              "  <thead>\n",
              "    <tr style=\"text-align: right;\">\n",
              "      <th></th>\n",
              "      <th>id</th>\n",
              "      <th>battery_power</th>\n",
              "      <th>blue</th>\n",
              "      <th>clock_speed</th>\n",
              "      <th>dual_sim</th>\n",
              "      <th>fc</th>\n",
              "      <th>four_g</th>\n",
              "      <th>int_memory</th>\n",
              "      <th>m_dep</th>\n",
              "      <th>mobile_wt</th>\n",
              "      <th>n_cores</th>\n",
              "      <th>pc</th>\n",
              "      <th>px_height</th>\n",
              "      <th>px_width</th>\n",
              "      <th>ram</th>\n",
              "      <th>sc_h</th>\n",
              "      <th>sc_w</th>\n",
              "      <th>talk_time</th>\n",
              "      <th>three_g</th>\n",
              "      <th>touch_screen</th>\n",
              "      <th>wifi</th>\n",
              "    </tr>\n",
              "  </thead>\n",
              "  <tbody>\n",
              "    <tr>\n",
              "      <th>count</th>\n",
              "      <td>1000.000000</td>\n",
              "      <td>1000.000000</td>\n",
              "      <td>1000.000000</td>\n",
              "      <td>1000.000000</td>\n",
              "      <td>1000.000000</td>\n",
              "      <td>1000.000000</td>\n",
              "      <td>1000.000000</td>\n",
              "      <td>1000.000000</td>\n",
              "      <td>1000.000000</td>\n",
              "      <td>1000.000000</td>\n",
              "      <td>1000.000000</td>\n",
              "      <td>1000.000000</td>\n",
              "      <td>1000.000000</td>\n",
              "      <td>1000.000000</td>\n",
              "      <td>1000.000000</td>\n",
              "      <td>1000.000000</td>\n",
              "      <td>1000.000000</td>\n",
              "      <td>1000.000000</td>\n",
              "      <td>1000.000000</td>\n",
              "      <td>1000.000000</td>\n",
              "      <td>1.000000e+03</td>\n",
              "    </tr>\n",
              "    <tr>\n",
              "      <th>mean</th>\n",
              "      <td>500.500000</td>\n",
              "      <td>0.022744</td>\n",
              "      <td>0.042002</td>\n",
              "      <td>0.022861</td>\n",
              "      <td>0.015003</td>\n",
              "      <td>0.065317</td>\n",
              "      <td>-0.069064</td>\n",
              "      <td>0.088500</td>\n",
              "      <td>0.054622</td>\n",
              "      <td>-0.020853</td>\n",
              "      <td>-0.084162</td>\n",
              "      <td>0.022679</td>\n",
              "      <td>-0.040541</td>\n",
              "      <td>-0.027174</td>\n",
              "      <td>0.013634</td>\n",
              "      <td>-0.073952</td>\n",
              "      <td>-0.103552</td>\n",
              "      <td>0.013547</td>\n",
              "      <td>-0.012906</td>\n",
              "      <td>-0.006000</td>\n",
              "      <td>1.043610e-17</td>\n",
              "    </tr>\n",
              "    <tr>\n",
              "      <th>std</th>\n",
              "      <td>288.819436</td>\n",
              "      <td>0.984407</td>\n",
              "      <td>1.000038</td>\n",
              "      <td>1.016508</td>\n",
              "      <td>1.000102</td>\n",
              "      <td>1.028331</td>\n",
              "      <td>1.001088</td>\n",
              "      <td>0.999312</td>\n",
              "      <td>0.974049</td>\n",
              "      <td>0.984763</td>\n",
              "      <td>1.000389</td>\n",
              "      <td>1.005328</td>\n",
              "      <td>0.975792</td>\n",
              "      <td>1.017542</td>\n",
              "      <td>1.003349</td>\n",
              "      <td>1.025738</td>\n",
              "      <td>0.973539</td>\n",
              "      <td>1.006416</td>\n",
              "      <td>1.008310</td>\n",
              "      <td>1.000518</td>\n",
              "      <td>1.000500e+00</td>\n",
              "    </tr>\n",
              "    <tr>\n",
              "      <th>min</th>\n",
              "      <td>1.000000</td>\n",
              "      <td>-1.681094</td>\n",
              "      <td>-0.990050</td>\n",
              "      <td>-1.253064</td>\n",
              "      <td>-1.019184</td>\n",
              "      <td>-0.992890</td>\n",
              "      <td>-1.043966</td>\n",
              "      <td>-1.656260</td>\n",
              "      <td>-1.393304</td>\n",
              "      <td>-1.702391</td>\n",
              "      <td>-1.539175</td>\n",
              "      <td>-1.635631</td>\n",
              "      <td>-1.454027</td>\n",
              "      <td>-1.736937</td>\n",
              "      <td>-1.716257</td>\n",
              "      <td>-1.734608</td>\n",
              "      <td>-1.324131</td>\n",
              "      <td>-1.649584</td>\n",
              "      <td>-1.786861</td>\n",
              "      <td>-1.006018</td>\n",
              "      <td>-1.014099e+00</td>\n",
              "    </tr>\n",
              "    <tr>\n",
              "      <th>25%</th>\n",
              "      <td>250.750000</td>\n",
              "      <td>-0.781953</td>\n",
              "      <td>-0.990050</td>\n",
              "      <td>-1.007906</td>\n",
              "      <td>-1.019184</td>\n",
              "      <td>-0.762495</td>\n",
              "      <td>-1.043966</td>\n",
              "      <td>-0.774288</td>\n",
              "      <td>-0.699686</td>\n",
              "      <td>-0.861778</td>\n",
              "      <td>-1.101971</td>\n",
              "      <td>-0.810929</td>\n",
              "      <td>-0.859554</td>\n",
              "      <td>-0.971474</td>\n",
              "      <td>-0.817884</td>\n",
              "      <td>-1.022389</td>\n",
              "      <td>-0.864922</td>\n",
              "      <td>-0.780033</td>\n",
              "      <td>0.559641</td>\n",
              "      <td>-1.006018</td>\n",
              "      <td>-1.014099e+00</td>\n",
              "    </tr>\n",
              "    <tr>\n",
              "      <th>50%</th>\n",
              "      <td>500.500000</td>\n",
              "      <td>0.018168</td>\n",
              "      <td>1.010051</td>\n",
              "      <td>-0.027274</td>\n",
              "      <td>0.981177</td>\n",
              "      <td>-0.301703</td>\n",
              "      <td>-1.043966</td>\n",
              "      <td>0.135245</td>\n",
              "      <td>-0.006069</td>\n",
              "      <td>-0.035292</td>\n",
              "      <td>-0.227564</td>\n",
              "      <td>0.013773</td>\n",
              "      <td>-0.181685</td>\n",
              "      <td>-0.003507</td>\n",
              "      <td>0.027006</td>\n",
              "      <td>-0.072765</td>\n",
              "      <td>-0.176107</td>\n",
              "      <td>-0.002014</td>\n",
              "      <td>0.559641</td>\n",
              "      <td>-0.006000</td>\n",
              "      <td>9.860966e-01</td>\n",
              "    </tr>\n",
              "    <tr>\n",
              "      <th>75%</th>\n",
              "      <td>750.250000</td>\n",
              "      <td>0.889424</td>\n",
              "      <td>1.010051</td>\n",
              "      <td>0.953358</td>\n",
              "      <td>0.981177</td>\n",
              "      <td>0.619880</td>\n",
              "      <td>0.957886</td>\n",
              "      <td>0.934531</td>\n",
              "      <td>1.034357</td>\n",
              "      <td>0.840642</td>\n",
              "      <td>0.646842</td>\n",
              "      <td>1.003414</td>\n",
              "      <td>0.581270</td>\n",
              "      <td>0.893872</td>\n",
              "      <td>0.867977</td>\n",
              "      <td>0.876859</td>\n",
              "      <td>0.512708</td>\n",
              "      <td>0.913303</td>\n",
              "      <td>0.559641</td>\n",
              "      <td>0.994018</td>\n",
              "      <td>9.860966e-01</td>\n",
              "    </tr>\n",
              "    <tr>\n",
              "      <th>max</th>\n",
              "      <td>1000.000000</td>\n",
              "      <td>1.731088</td>\n",
              "      <td>1.010051</td>\n",
              "      <td>1.811412</td>\n",
              "      <td>0.981177</td>\n",
              "      <td>3.384628</td>\n",
              "      <td>0.957886</td>\n",
              "      <td>1.761380</td>\n",
              "      <td>1.727974</td>\n",
              "      <td>1.688320</td>\n",
              "      <td>1.521249</td>\n",
              "      <td>1.663176</td>\n",
              "      <td>2.844214</td>\n",
              "      <td>1.727608</td>\n",
              "      <td>1.719552</td>\n",
              "      <td>1.589078</td>\n",
              "      <td>2.808756</td>\n",
              "      <td>1.645557</td>\n",
              "      <td>0.559641</td>\n",
              "      <td>0.994018</td>\n",
              "      <td>9.860966e-01</td>\n",
              "    </tr>\n",
              "  </tbody>\n",
              "</table>\n",
              "</div>"
            ],
            "text/plain": [
              "                id  battery_power  ...  touch_screen          wifi\n",
              "count  1000.000000    1000.000000  ...   1000.000000  1.000000e+03\n",
              "mean    500.500000       0.022744  ...     -0.006000  1.043610e-17\n",
              "std     288.819436       0.984407  ...      1.000518  1.000500e+00\n",
              "min       1.000000      -1.681094  ...     -1.006018 -1.014099e+00\n",
              "25%     250.750000      -0.781953  ...     -1.006018 -1.014099e+00\n",
              "50%     500.500000       0.018168  ...     -0.006000  9.860966e-01\n",
              "75%     750.250000       0.889424  ...      0.994018  9.860966e-01\n",
              "max    1000.000000       1.731088  ...      0.994018  9.860966e-01\n",
              "\n",
              "[8 rows x 21 columns]"
            ]
          },
          "metadata": {
            "tags": []
          },
          "execution_count": 74
        }
      ]
    },
    {
      "cell_type": "code",
      "metadata": {
        "id": "4-NkYFDOXR1d",
        "colab_type": "code",
        "outputId": "3557c178-d2f8-4ba1-9aca-39aa270a3fe1",
        "colab": {
          "base_uri": "https://localhost:8080/",
          "height": 202
        }
      },
      "source": [
        "submission = pd.DataFrame()\n",
        "submission['id'] = test['id']\n",
        "submission.head()"
      ],
      "execution_count": 0,
      "outputs": [
        {
          "output_type": "execute_result",
          "data": {
            "text/html": [
              "<div>\n",
              "<style scoped>\n",
              "    .dataframe tbody tr th:only-of-type {\n",
              "        vertical-align: middle;\n",
              "    }\n",
              "\n",
              "    .dataframe tbody tr th {\n",
              "        vertical-align: top;\n",
              "    }\n",
              "\n",
              "    .dataframe thead th {\n",
              "        text-align: right;\n",
              "    }\n",
              "</style>\n",
              "<table border=\"1\" class=\"dataframe\">\n",
              "  <thead>\n",
              "    <tr style=\"text-align: right;\">\n",
              "      <th></th>\n",
              "      <th>id</th>\n",
              "    </tr>\n",
              "  </thead>\n",
              "  <tbody>\n",
              "    <tr>\n",
              "      <th>0</th>\n",
              "      <td>1</td>\n",
              "    </tr>\n",
              "    <tr>\n",
              "      <th>1</th>\n",
              "      <td>2</td>\n",
              "    </tr>\n",
              "    <tr>\n",
              "      <th>2</th>\n",
              "      <td>3</td>\n",
              "    </tr>\n",
              "    <tr>\n",
              "      <th>3</th>\n",
              "      <td>4</td>\n",
              "    </tr>\n",
              "    <tr>\n",
              "      <th>4</th>\n",
              "      <td>5</td>\n",
              "    </tr>\n",
              "  </tbody>\n",
              "</table>\n",
              "</div>"
            ],
            "text/plain": [
              "   id\n",
              "0   1\n",
              "1   2\n",
              "2   3\n",
              "3   4\n",
              "4   5"
            ]
          },
          "metadata": {
            "tags": []
          },
          "execution_count": 81
        }
      ]
    },
    {
      "cell_type": "code",
      "metadata": {
        "id": "rm8ipNxqXip7",
        "colab_type": "code",
        "outputId": "a8043706-bdf8-455a-b99d-752c25dbc1f8",
        "colab": {
          "base_uri": "https://localhost:8080/",
          "height": 202
        }
      },
      "source": [
        "predictions = model.predict(test.drop(columns='id',axis=1))\n",
        "submission['price_range'] = predictions\n",
        "submission.head()"
      ],
      "execution_count": 0,
      "outputs": [
        {
          "output_type": "execute_result",
          "data": {
            "text/html": [
              "<div>\n",
              "<style scoped>\n",
              "    .dataframe tbody tr th:only-of-type {\n",
              "        vertical-align: middle;\n",
              "    }\n",
              "\n",
              "    .dataframe tbody tr th {\n",
              "        vertical-align: top;\n",
              "    }\n",
              "\n",
              "    .dataframe thead th {\n",
              "        text-align: right;\n",
              "    }\n",
              "</style>\n",
              "<table border=\"1\" class=\"dataframe\">\n",
              "  <thead>\n",
              "    <tr style=\"text-align: right;\">\n",
              "      <th></th>\n",
              "      <th>id</th>\n",
              "      <th>price_range</th>\n",
              "    </tr>\n",
              "  </thead>\n",
              "  <tbody>\n",
              "    <tr>\n",
              "      <th>0</th>\n",
              "      <td>1</td>\n",
              "      <td>3</td>\n",
              "    </tr>\n",
              "    <tr>\n",
              "      <th>1</th>\n",
              "      <td>2</td>\n",
              "      <td>3</td>\n",
              "    </tr>\n",
              "    <tr>\n",
              "      <th>2</th>\n",
              "      <td>3</td>\n",
              "      <td>2</td>\n",
              "    </tr>\n",
              "    <tr>\n",
              "      <th>3</th>\n",
              "      <td>4</td>\n",
              "      <td>3</td>\n",
              "    </tr>\n",
              "    <tr>\n",
              "      <th>4</th>\n",
              "      <td>5</td>\n",
              "      <td>1</td>\n",
              "    </tr>\n",
              "  </tbody>\n",
              "</table>\n",
              "</div>"
            ],
            "text/plain": [
              "   id  price_range\n",
              "0   1            3\n",
              "1   2            3\n",
              "2   3            2\n",
              "3   4            3\n",
              "4   5            1"
            ]
          },
          "metadata": {
            "tags": []
          },
          "execution_count": 82
        }
      ]
    },
    {
      "cell_type": "code",
      "metadata": {
        "id": "PgS5O_OEX0B_",
        "colab_type": "code",
        "colab": {}
      },
      "source": [
        "submission.to_csv('submission.csv',index=False)"
      ],
      "execution_count": 0,
      "outputs": []
    },
    {
      "cell_type": "markdown",
      "metadata": {
        "id": "Ri4vKeFrRQz3",
        "colab_type": "text"
      },
      "source": [
        "### Model Evaluation"
      ]
    },
    {
      "cell_type": "code",
      "metadata": {
        "id": "_ppP-0GrRTq6",
        "colab_type": "code",
        "colab": {}
      },
      "source": [
        "from sklearn.metrics import confusion_matrix,roc_auc_score,roc_curve"
      ],
      "execution_count": 0,
      "outputs": []
    },
    {
      "cell_type": "code",
      "metadata": {
        "id": "cYrdLkKVTXqi",
        "colab_type": "code",
        "outputId": "ff375d38-bd9d-4cb2-8ac4-34d66ea63613",
        "colab": {
          "base_uri": "https://localhost:8080/",
          "height": 87
        }
      },
      "source": [
        "model"
      ],
      "execution_count": 0,
      "outputs": [
        {
          "output_type": "execute_result",
          "data": {
            "text/plain": [
              "SVC(C=1, break_ties=False, cache_size=200, class_weight=None, coef0=0.0,\n",
              "    decision_function_shape='ovr', degree=1, gamma=0.1, kernel='linear',\n",
              "    max_iter=-1, probability=False, random_state=None, shrinking=True,\n",
              "    tol=0.001, verbose=False)"
            ]
          },
          "metadata": {
            "tags": []
          },
          "execution_count": 15
        }
      ]
    },
    {
      "cell_type": "code",
      "metadata": {
        "id": "g1bm0SQ3TY24",
        "colab_type": "code",
        "outputId": "173f05c1-b330-4f66-8487-a41fdbb61a3c",
        "colab": {
          "base_uri": "https://localhost:8080/",
          "height": 87
        }
      },
      "source": [
        "y_pred = model.predict(X_train)\n",
        "confusion = confusion_matrix(y_train,y_pred=y_pred)\n",
        "confusion"
      ],
      "execution_count": 0,
      "outputs": [
        {
          "output_type": "execute_result",
          "data": {
            "text/plain": [
              "array([[345,   4,   0,   0],\n",
              "       [  7, 344,   3,   0],\n",
              "       [  0,   8, 338,   6],\n",
              "       [  0,   0,   4, 341]])"
            ]
          },
          "metadata": {
            "tags": []
          },
          "execution_count": 14
        }
      ]
    },
    {
      "cell_type": "markdown",
      "metadata": {
        "id": "dKJxWnGBtsEG",
        "colab_type": "text"
      },
      "source": [
        "### logistic Model\n"
      ]
    },
    {
      "cell_type": "code",
      "metadata": {
        "id": "VLR5gqjAtqms",
        "colab_type": "code",
        "outputId": "c6462667-4491-46e1-ddbc-b85c8efc814a",
        "colab": {
          "base_uri": "https://localhost:8080/",
          "height": 87
        }
      },
      "source": [
        "lr = LogisticRegression()\n",
        "lr.fit(X_train,y_train)\n",
        "\n",
        "mul_lr = LogisticRegression(multi_class='multinomial', solver='newton-cg')\n",
        "mul_lr.fit(X_train,y_train)\n",
        "\n",
        "print(\"Logistic regression Train Accuracy :: {:.3f}\".format(accuracy_score(y_train, lr.predict(X_train))))\n",
        "print(\"Logistic regression Test Accuracy :: {:.3f}\".format(accuracy_score(y_test, lr.predict(X_test))))\n",
        "\n",
        "print(\"Multinomial regression Train Accuracy :: {:.3f}\".format(accuracy_score(y_train, mul_lr.predict(X_train))))\n",
        "print(\"Multinomial regression Test Accuracy :: {:.3f}\".format(accuracy_score(y_test, mul_lr.predict(X_test))))"
      ],
      "execution_count": 0,
      "outputs": [
        {
          "output_type": "stream",
          "text": [
            "Logistic regression Train Accuracy :: 0.976\n",
            "Logistic regression Test Accuracy :: 0.958\n",
            "Multinomial regression Train Accuracy :: 0.976\n",
            "Multinomial regression Test Accuracy :: 0.958\n"
          ],
          "name": "stdout"
        }
      ]
    },
    {
      "cell_type": "code",
      "metadata": {
        "id": "LuBfTy66vPAL",
        "colab_type": "code",
        "outputId": "f1d81c67-1e76-417f-8676-a740ae0aede2",
        "colab": {
          "base_uri": "https://localhost:8080/",
          "height": 87
        }
      },
      "source": [
        "y_pred = lr.predict(X_train)\n",
        "confusion = confusion_matrix(y_train,y_pred=y_pred)\n",
        "confusion"
      ],
      "execution_count": 0,
      "outputs": [
        {
          "output_type": "execute_result",
          "data": {
            "text/plain": [
              "array([[344,   5,   0,   0],\n",
              "       [  6, 341,   7,   0],\n",
              "       [  0,   5, 341,   6],\n",
              "       [  0,   0,   4, 341]])"
            ]
          },
          "metadata": {
            "tags": []
          },
          "execution_count": 10
        }
      ]
    },
    {
      "cell_type": "code",
      "metadata": {
        "id": "4Pvjc8lkfiX2",
        "colab_type": "code",
        "outputId": "eead2897-051f-4d08-c41f-db8c1a192e39",
        "colab": {
          "base_uri": "https://localhost:8080/",
          "height": 52
        }
      },
      "source": [
        "inputs = [2,3,5,6]\n",
        "print(np.exp(inputs) / float(sum(np.exp(inputs))))\n",
        "np.exp(2) / float(sum(np.exp([2,3,5,6])))"
      ],
      "execution_count": 0,
      "outputs": [
        {
          "output_type": "stream",
          "text": [
            "[0.01275478 0.03467109 0.25618664 0.69638749]\n"
          ],
          "name": "stdout"
        },
        {
          "output_type": "execute_result",
          "data": {
            "text/plain": [
              "0.012754781742087938"
            ]
          },
          "metadata": {
            "tags": []
          },
          "execution_count": 13
        }
      ]
    }
  ]
}